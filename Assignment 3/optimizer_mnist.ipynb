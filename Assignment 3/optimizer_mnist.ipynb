{
 "cells": [
  {
   "cell_type": "code",
   "execution_count": 1,
   "metadata": {},
   "outputs": [],
   "source": [
    "import os\n",
    "import numpy as np\n",
    "import pandas as pd\n",
    "import time\n",
    "import tensorflow as tf\n",
    "from tqdm import tqdm\n",
    "import tensorflow_datasets.public_api as tfds\n",
    "from matplotlib import pyplot as plt\n",
    "from sklearn import metrics, model_selection, preprocessing\n",
    "np.random.seed(597)\n",
    "tf.random.set_seed(597)\n",
    "tf.config.list_physical_devices('GPU')\n",
    "import os\n",
    "os.environ[\"CUDA_VISIBLE_DEVICES\"] = \"0\""
   ]
  },
  {
   "cell_type": "code",
   "execution_count": 2,
   "metadata": {
    "scrolled": true
   },
   "outputs": [],
   "source": [
    "# MNIST\n",
    "(X_train, y_train), (X_test, y_test) = tf.keras.datasets.mnist.load_data()\n",
    "X_train = X_train/255.0\n",
    "X_test = X_test/255.0\n",
    "# Split validation set\n",
    "X_train, X_val, y_train, y_val = model_selection.train_test_split(X_train, y_train, test_size=10000, random_state=597)\n",
    "X_train = tf.reshape(X_train, (50000, 784))\n",
    "X_val = tf.reshape(X_val, (10000, 784))\n",
    "X_test = tf.reshape(X_test, (10000, 784))\n",
    "assert X_train.shape == (50000, 784)\n",
    "assert X_val.shape == (10000, 784)\n",
    "assert X_test.shape == (10000, 784)\n",
    "assert y_train.shape == (50000,)\n",
    "assert y_val.shape == (10000,)\n",
    "assert y_test.shape == (10000,)"
   ]
  },
  {
   "cell_type": "code",
   "execution_count": 3,
   "metadata": {},
   "outputs": [
    {
     "name": "stdout",
     "output_type": "stream",
     "text": [
      "4\n"
     ]
    },
    {
     "data": {
      "text/plain": [
       "<matplotlib.image.AxesImage at 0x1f88642e1c8>"
      ]
     },
     "execution_count": 3,
     "metadata": {},
     "output_type": "execute_result"
    },
    {
     "data": {
      "image/png": "[encoded data removed]",
      "text/plain": [
       "<Figure size 432x288 with 1 Axes>"
      ]
     },
     "metadata": {
      "needs_background": "light"
     },
     "output_type": "display_data"
    }
   ],
   "source": [
    "# Take a look at the first digit\n",
    "print(y_train[0])\n",
    "plt.imshow(tf.reshape(X_train[0], (28, 28)))"
   ]
  },
  {
   "cell_type": "code",
   "execution_count": 4,
   "metadata": {},
   "outputs": [],
   "source": [
    "size_input = 784\n",
    "size_hidden1 = 300\n",
    "size_hidden2 = 100\n",
    "size_output = 10\n",
    "number_of_train_examples = 50000\n",
    "number_of_val_examples = 10000\n",
    "number_of_test_examples = 10000\n",
    "\n",
    "# Split dataset into batches\n",
    "train_ds = tf.data.Dataset.from_tensor_slices((X_train, y_train)).batch(20)\n",
    "val_ds = tf.data.Dataset.from_tensor_slices((X_val, y_val)).batch(10)\n",
    "test_ds = tf.data.Dataset.from_tensor_slices((X_test, y_test)).batch(10)"
   ]
  },
  {
   "cell_type": "code",
   "execution_count": 5,
   "metadata": {},
   "outputs": [],
   "source": [
    "# Define class to build mlp model\n",
    "class MLP(object):\n",
    "  def __init__(self, size_input, size_hidden1, size_hidden2, size_output, lr=1e-3, \n",
    "               optimizer=tf.keras.optimizers.Adam, reg=None, dropout=None):\n",
    "    \"\"\"\n",
    "    size_input: int, size of input layer\n",
    "    size_hidden1: int, size of hidden layer1\n",
    "    size_hidden2: int, size of hidden layer2\n",
    "    size_output: int, size of output layer\n",
    "    lr: float, learning rate for optimizer\n",
    "    reg: list, penalty. e.g. ['l1']\n",
    "    dropout: float, dropout rate\n",
    "    optimizer: class, keras inbuild optimizer to be used\n",
    "    \"\"\"\n",
    "    self.size_input, self.size_hidden1, self.size_hidden2, self.size_output, self.lr, self.reg, self.dropout, self.optimizer =\\\n",
    "    size_input, size_hidden1, size_hidden2, size_output, lr, reg, dropout, optimizer\n",
    "    \n",
    "    # Initialize weights between input layer and hidden layer 1\n",
    "    self.W1 = tf.Variable(tf.random.normal([self.size_input, self.size_hidden1], stddev = 0.1))\n",
    "    # Initialize biases for hidden layer 1\n",
    "    self.b1 = tf.Variable(tf.zeros([1, self.size_hidden1]))\n",
    "    # Initialize weights between hidden layer 1 and hidden layer 2\n",
    "    self.W2 = tf.Variable(tf.random.normal([self.size_hidden1, self.size_hidden2], stddev = 0.1))\n",
    "    # Initialize biases for hidden layer 2\n",
    "    self.b2 = tf.Variable(tf.zeros([1, self.size_hidden2]))\n",
    "     # Initialize weights between hidden layer 2 and output layer\n",
    "    self.W3 = tf.Variable(tf.random.normal([self.size_hidden2, self.size_output], stddev = 0.1))\n",
    "    # Initialize biases for output layer\n",
    "    self.b3 = tf.Variable(tf.zeros([1, self.size_output]))\n",
    "    \n",
    "    # Define variables to be updated during backpropagation\n",
    "    self.variables = [self.W1, self.W2, self.W3, self.b1, self.b2, self.b3]\n",
    "    \n",
    "  def forward(self, X):\n",
    "    \"\"\"\n",
    "    forward pass\n",
    "    X: Tensor, inputs\n",
    "    Always use gpu\n",
    "    \"\"\"\n",
    "    with tf.device('gpu:0'):\n",
    "        self.y = self.compute_output(X)\n",
    "        \n",
    "    return self.y\n",
    "  \n",
    "  def loss(self, y_pred, y_true):\n",
    "    '''\n",
    "    y_pred - Tensor of shape (batch_size, size_output)\n",
    "    y_true - Tensor of shape (batch_size, size_output)\n",
    "    '''\n",
    "    y_true_tf = tf.cast(y_true, dtype=tf.int32)\n",
    "    y_pred_tf = tf.cast(y_pred, dtype=tf.float32)\n",
    "    # Use softmax categorical cross entropy for classification task\n",
    "    loss = tf.losses.SparseCategoricalCrossentropy(from_logits=True)(y_true_tf, y_pred_tf)\n",
    "    if self.reg != None:\n",
    "        if self.reg == ['l1']:\n",
    "            loss = loss + 1e-5*(tf.reduce_sum([tf.reduce_sum(tf.abs(var)) for var in self.variables]))\n",
    "        elif self.reg == ['l2']:\n",
    "            loss = loss + 1e-5*(tf.reduce_sum([tf.nn.l2_loss(var) for var in self.variables]))\n",
    "        elif self.reg == ['l1', 'l2']:\n",
    "            loss = loss + 1e-5*(tf.reduce_sum([tf.reduce_sum(tf.abs(var)) for var in self.variables])) +\\\n",
    "                          1e-5*(tf.reduce_sum([tf.nn.l2_loss(var) for var in self.variables]))\n",
    "        else:\n",
    "            assert 1==0, \"The parameters of regularization is unknown, please use ['l1'] or ['l1', 'l2']\"\n",
    "    # Add l1 reg\n",
    "    return  loss \n",
    "  \n",
    "  def backward(self, X_train, y_train):\n",
    "    \"\"\"\n",
    "    backward pass\n",
    "    \"\"\"\n",
    "    optimizer = self.optimizer(learning_rate=self.lr)\n",
    "    with tf.GradientTape() as tape:\n",
    "        predicted = self.forward(X_train)\n",
    "        current_loss = self.loss(predicted, y_train) \n",
    "    grads = tape.gradient(current_loss, self.variables)\n",
    "    optimizer.apply_gradients(zip(grads, self.variables))\n",
    "        \n",
    "  def compute_output(self, X):\n",
    "    \"\"\"\n",
    "    Custom method to obtain output tensor during forward pass\n",
    "    \"\"\"\n",
    "    # Cast X to float32\n",
    "    X_tf = tf.cast(X, dtype=tf.float32)\n",
    "    # Compute values in hidden layer 1\n",
    "    what1 = tf.matmul(X_tf, self.W1) + self.b1\n",
    "    hhat1 = tf.nn.relu(what1)\n",
    "    # Add dropout\n",
    "    if self.dropout != None:     \n",
    "        hhat1 = tf.nn.dropout(hhat1, rate = self.dropout, seed = 597)\n",
    "    # Compute values in hidden layer 2\n",
    "    what2 = tf.matmul(hhat1, self.W2) + self.b2\n",
    "    hhat2 = tf.nn.relu(what2)\n",
    "    # Add dropout\n",
    "    if self.dropout != None:     \n",
    "        hhat2 = tf.nn.dropout(hhat2, rate = self.dropout, seed = 597)\n",
    "    # Compute output\n",
    "    output = tf.matmul(hhat2, self.W3) + self.b3\n",
    "    # softmax is applied in the calculation of cross entropy\n",
    "    return output"
   ]
  },
  {
   "cell_type": "code",
   "execution_count": 8,
   "metadata": {},
   "outputs": [],
   "source": [
    "# Define class to build mlp model with customized optimizer\n",
    "class MLP2(object):\n",
    "  def __init__(self, size_input, size_hidden1, size_hidden2, size_output, lr=1e-3, \n",
    "               optimizer=tf.keras.optimizers.Adam, reg=None, dropout=None):\n",
    "    \"\"\"\n",
    "    size_input: int, size of input layer\n",
    "    size_hidden1: int, size of hidden layer1\n",
    "    size_hidden2: int, size of hidden layer2\n",
    "    size_output: int, size of output layer\n",
    "    lr: float, learning rate for optimizer\n",
    "    reg: list, penalty. e.g. ['l1']\n",
    "    dropout: float, dropout rate\n",
    "    normal: bool, whether normalize the data\n",
    "    \"\"\"\n",
    "    self.size_input, self.size_hidden1, self.size_hidden2, self.size_output, self.lr, self.reg, self.dropout =\\\n",
    "    size_input, size_hidden1, size_hidden2, size_output, lr, reg, dropout\n",
    "    \n",
    "    # Initialize weights between input layer and hidden layer 1\n",
    "    self.W1 = tf.Variable(tf.random.normal([self.size_input, self.size_hidden1], stddev = 0.1))\n",
    "    # Initialize biases for hidden layer 1\n",
    "    self.b1 = tf.Variable(tf.zeros([1, self.size_hidden1]))\n",
    "    # Initialize weights between hidden layer 1 and hidden layer 2\n",
    "    self.W2 = tf.Variable(tf.random.normal([self.size_hidden1, self.size_hidden2], stddev = 0.1))\n",
    "    # Initialize biases for hidden layer 2\n",
    "    self.b2 = tf.Variable(tf.zeros([1, self.size_hidden2]))\n",
    "     # Initialize weights between hidden layer 2 and output layer\n",
    "    self.W3 = tf.Variable(tf.random.normal([self.size_hidden2, self.size_output], stddev = 0.1))\n",
    "    # Initialize biases for output layer\n",
    "    self.b3 = tf.Variable(tf.zeros([1, self.size_output]))\n",
    "    \n",
    "    # Define variables to be updated during backpropagation\n",
    "    self.variables = [self.W1, self.W2, self.W3, self.b1, self.b2, self.b3]\n",
    "    \n",
    "    # Initialize optimizer parameters\n",
    "    self.t = 0                       # Initialize timestep\n",
    "    self.m = [0]*len(self.variables) # Initialize 1st moment vector\n",
    "    self.v = [0]*len(self.variables) # Initialize 2nd moment vector\n",
    "    self.u = [0]*len(self.variables) # Initialize 3rd moment vector\n",
    "    \n",
    "  def forward(self, X):\n",
    "    \"\"\"\n",
    "    forward pass\n",
    "    X: Tensor, inputs\n",
    "    Always use gpu\n",
    "    \"\"\"\n",
    "    with tf.device('/gpu:0'):\n",
    "        self.y = self.compute_output(X)\n",
    "        \n",
    "    return self.y\n",
    "  \n",
    "  def loss(self, y_pred, y_true):\n",
    "    '''\n",
    "    y_pred - Tensor of shape (batch_size, size_output)\n",
    "    y_true - Tensor of shape (batch_size, size_output)\n",
    "    '''\n",
    "    y_true_tf = tf.cast(y_true, dtype=tf.int32)\n",
    "    y_pred_tf = tf.cast(y_pred, dtype=tf.float32)\n",
    "    # Use softmax categorical cross entropy for classification task\n",
    "    loss = tf.losses.SparseCategoricalCrossentropy(from_logits=True)(y_true_tf, y_pred_tf)\n",
    "    # Add penalty\n",
    "    if self.reg != None:\n",
    "        if self.reg == ['l1']:\n",
    "            loss = loss + 1e-5*(tf.reduce_sum([tf.reduce_sum(tf.abs(var)) for var in self.variables]))\n",
    "        elif self.reg == ['l2']:\n",
    "            loss = loss + 1e-5*(tf.reduce_sum([tf.nn.l2_loss(var) for var in self.variables]))\n",
    "        elif self.reg == ['l1', 'l2']:\n",
    "            loss = loss + 1e-5*(tf.reduce_sum([tf.reduce_sum(tf.abs(var)) for var in self.variables])) +\\\n",
    "                          1e-5*(tf.reduce_sum([tf.nn.l2_loss(var) for var in self.variables]))\n",
    "        else:\n",
    "            assert 1==0, \"The parameters of regularization is unknown, please use ['l1'] or ['l1', 'l2']\"\n",
    "    return  loss \n",
    "  \n",
    "  def backward(self, X_train, y_train):\n",
    "    \"\"\"\n",
    "    backward pass\n",
    "    \"\"\"\n",
    "    with tf.GradientTape() as tape:\n",
    "        predicted = self.forward(X_train)\n",
    "        current_loss = self.loss(predicted, y_train) \n",
    "        \n",
    "    # Get gradients w.r.t. stochastic objective at timestep t\n",
    "    grads = tape.gradient(current_loss, self.variables)\n",
    "    \n",
    "    # Exponential decay rates for the moment estimates\n",
    "    beta1 = 0.9\n",
    "    beta2 = 0.999\n",
    "    beta3 = 0.999987\n",
    "    \n",
    "    epsilon = 1e-8\n",
    "    epsilon2 = 1e-6\n",
    "    \n",
    "    dws = grads\n",
    "    \n",
    "    # Update biased moment estimates\n",
    "    self.m = [beta1*a_i + (1-beta1)*b_i for a_i, b_i in zip(self.m, dws)]\n",
    "    dws2 = [i*i for i in dws]\n",
    "    self.v = [beta2*a_i + (1-beta2)*b_i for a_i, b_i in zip(self.v, dws2)]\n",
    "    dws3 = [i*i*i for i in dws]\n",
    "    self.u = [beta3*a_i + (1-beta3)*b_i for a_i, b_i in zip(self.u, dws3)]\n",
    "    \n",
    "    # Compute bias-corrected moment estimates\n",
    "    m_hat = [i/(1-(beta1**self.t if self.t > 0 else 0)) for i in self.m] # let m_hat = m when t = 0\n",
    "    v_hat = [i/(1-(beta2**self.t if self.t > 0 else 0)) for i in self.v]\n",
    "    u_hat = [i/(1-(beta3**self.t if self.t > 0 else 0)) for i in self.u]\n",
    "    \n",
    "    # Update parameters\n",
    "    Wt = [d_i - self.lr * a_i/(tf.math.sqrt(tf.math.abs(b_i)) + tf.math.sign(c_i)*tf.math.pow(tf.math.abs(c_i), 1/3)*epsilon + epsilon2) \n",
    "          for a_i, b_i, c_i, d_i in zip(m_hat, v_hat, u_hat, self.variables)]\n",
    "    \n",
    "    W = self.variables[0]\n",
    "    W.assign(Wt[0])\n",
    "    W1 = self.variables[1]\n",
    "    W1.assign(Wt[1])\n",
    "    W2 = self.variables[2]\n",
    "    W2.assign(Wt[2])\n",
    "    B = self.variables[3]\n",
    "    B.assign(Wt[3])\n",
    "    B1 = self.variables[4]\n",
    "    B1.assign(Wt[4])\n",
    "    B2 = self.variables[5]\n",
    "    B2.assign(Wt[5])\n",
    "      \n",
    "    self.t = self.t + 1\n",
    "        \n",
    "  def compute_output(self, X):\n",
    "    \"\"\"\n",
    "    Custom method to obtain output tensor during forward pass\n",
    "    \"\"\"\n",
    "    # Cast X to float32\n",
    "    X_tf = tf.cast(X, dtype=tf.float32)\n",
    "    # Compute values in hidden layer 1\n",
    "    what1 = tf.matmul(X_tf, self.W1) + self.b1\n",
    "    hhat1 = tf.nn.relu(what1)\n",
    "    # Add dropout\n",
    "    if self.dropout != None:     \n",
    "        hhat1 = tf.nn.dropout(hhat1, rate = self.dropout, seed = 597)\n",
    "    # Compute values in hidden layer 2\n",
    "    what2 = tf.matmul(hhat1, self.W2) + self.b2\n",
    "    hhat2 = tf.nn.relu(what2)\n",
    "    # Add dropout\n",
    "    if self.dropout != None:     \n",
    "        hhat2 = tf.nn.dropout(hhat2, rate = self.dropout, seed = 597)\n",
    "    # Compute output\n",
    "    output = tf.matmul(hhat2, self.W3) + self.b3\n",
    "    # softmax is applied in the calculation of cross entropy\n",
    "    return output"
   ]
  },
  {
   "cell_type": "code",
   "execution_count": 9,
   "metadata": {
    "scrolled": true
   },
   "outputs": [
    {
     "name": "stderr",
     "output_type": "stream",
     "text": [
      "100%|██████████| 500/500 [00:11<00:00, 42.67it/s]\n"
     ]
    },
    {
     "name": "stdout",
     "output_type": "stream",
     "text": [
      "Number of Epoch = 1 - Average cross entropy:= 0.0067 \n",
      "                    - Average accuracy:= 0.8637\n"
     ]
    },
    {
     "name": "stderr",
     "output_type": "stream",
     "text": [
      "100%|██████████| 500/500 [00:11<00:00, 42.50it/s]\n"
     ]
    },
    {
     "name": "stdout",
     "output_type": "stream",
     "text": [
      "Number of Epoch = 2 - Average cross entropy:= 0.0062 \n",
      "                    - Average accuracy:= 0.9008\n"
     ]
    },
    {
     "name": "stderr",
     "output_type": "stream",
     "text": [
      "100%|██████████| 500/500 [00:11<00:00, 42.15it/s]\n"
     ]
    },
    {
     "name": "stdout",
     "output_type": "stream",
     "text": [
      "Number of Epoch = 3 - Average cross entropy:= 0.0059 \n",
      "                    - Average accuracy:= 0.9072\n"
     ]
    },
    {
     "name": "stderr",
     "output_type": "stream",
     "text": [
      "100%|██████████| 500/500 [00:11<00:00, 42.88it/s]\n"
     ]
    },
    {
     "name": "stdout",
     "output_type": "stream",
     "text": [
      "Number of Epoch = 4 - Average cross entropy:= 0.0049 \n",
      "                    - Average accuracy:= 0.9178\n"
     ]
    },
    {
     "name": "stderr",
     "output_type": "stream",
     "text": [
      "100%|██████████| 500/500 [00:11<00:00, 43.73it/s]\n"
     ]
    },
    {
     "name": "stdout",
     "output_type": "stream",
     "text": [
      "Number of Epoch = 5 - Average cross entropy:= 0.0051 \n",
      "                    - Average accuracy:= 0.9180\n"
     ]
    },
    {
     "name": "stderr",
     "output_type": "stream",
     "text": [
      "100%|██████████| 500/500 [00:11<00:00, 43.04it/s]\n"
     ]
    },
    {
     "name": "stdout",
     "output_type": "stream",
     "text": [
      "Number of Epoch = 6 - Average cross entropy:= 0.0050 \n",
      "                    - Average accuracy:= 0.9197\n"
     ]
    },
    {
     "name": "stderr",
     "output_type": "stream",
     "text": [
      "100%|██████████| 500/500 [00:11<00:00, 42.98it/s]\n"
     ]
    },
    {
     "name": "stdout",
     "output_type": "stream",
     "text": [
      "Number of Epoch = 7 - Average cross entropy:= 0.0054 \n",
      "                    - Average accuracy:= 0.9200\n"
     ]
    },
    {
     "name": "stderr",
     "output_type": "stream",
     "text": [
      "100%|██████████| 500/500 [00:11<00:00, 41.78it/s]\n"
     ]
    },
    {
     "name": "stdout",
     "output_type": "stream",
     "text": [
      "Number of Epoch = 8 - Average cross entropy:= 0.0052 \n",
      "                    - Average accuracy:= 0.9234\n"
     ]
    },
    {
     "name": "stderr",
     "output_type": "stream",
     "text": [
      "100%|██████████| 500/500 [00:11<00:00, 43.65it/s]\n"
     ]
    },
    {
     "name": "stdout",
     "output_type": "stream",
     "text": [
      "Number of Epoch = 9 - Average cross entropy:= 0.0049 \n",
      "                    - Average accuracy:= 0.9242\n"
     ]
    },
    {
     "name": "stderr",
     "output_type": "stream",
     "text": [
      "100%|██████████| 500/500 [00:11<00:00, 43.44it/s]\n"
     ]
    },
    {
     "name": "stdout",
     "output_type": "stream",
     "text": [
      "Number of Epoch = 10 - Average cross entropy:= 0.0050 \n",
      "                    - Average accuracy:= 0.9259\n"
     ]
    },
    {
     "name": "stderr",
     "output_type": "stream",
     "text": [
      "100%|██████████| 500/500 [00:11<00:00, 41.82it/s]\n"
     ]
    },
    {
     "name": "stdout",
     "output_type": "stream",
     "text": [
      "Number of Epoch = 11 - Average cross entropy:= 0.0048 \n",
      "                    - Average accuracy:= 0.9253\n"
     ]
    },
    {
     "name": "stderr",
     "output_type": "stream",
     "text": [
      "100%|██████████| 500/500 [00:11<00:00, 42.95it/s]\n"
     ]
    },
    {
     "name": "stdout",
     "output_type": "stream",
     "text": [
      "Number of Epoch = 12 - Average cross entropy:= 0.0049 \n",
      "                    - Average accuracy:= 0.9260\n"
     ]
    },
    {
     "name": "stderr",
     "output_type": "stream",
     "text": [
      "100%|██████████| 500/500 [00:11<00:00, 42.06it/s]\n"
     ]
    },
    {
     "name": "stdout",
     "output_type": "stream",
     "text": [
      "Number of Epoch = 13 - Average cross entropy:= 0.0049 \n",
      "                    - Average accuracy:= 0.9274\n"
     ]
    },
    {
     "name": "stderr",
     "output_type": "stream",
     "text": [
      "100%|██████████| 500/500 [00:12<00:00, 40.28it/s]\n"
     ]
    },
    {
     "name": "stdout",
     "output_type": "stream",
     "text": [
      "Number of Epoch = 14 - Average cross entropy:= 0.0051 \n",
      "                    - Average accuracy:= 0.9254\n"
     ]
    },
    {
     "name": "stderr",
     "output_type": "stream",
     "text": [
      "100%|██████████| 500/500 [00:12<00:00, 40.88it/s]\n"
     ]
    },
    {
     "name": "stdout",
     "output_type": "stream",
     "text": [
      "Number of Epoch = 15 - Average cross entropy:= 0.0049 \n",
      "                    - Average accuracy:= 0.9277\n"
     ]
    },
    {
     "name": "stderr",
     "output_type": "stream",
     "text": [
      "100%|██████████| 500/500 [00:12<00:00, 41.64it/s]\n"
     ]
    },
    {
     "name": "stdout",
     "output_type": "stream",
     "text": [
      "Number of Epoch = 16 - Average cross entropy:= 0.0045 \n",
      "                    - Average accuracy:= 0.9290\n"
     ]
    },
    {
     "name": "stderr",
     "output_type": "stream",
     "text": [
      "100%|██████████| 500/500 [00:11<00:00, 41.85it/s]\n"
     ]
    },
    {
     "name": "stdout",
     "output_type": "stream",
     "text": [
      "Number of Epoch = 17 - Average cross entropy:= 0.0048 \n",
      "                    - Average accuracy:= 0.9268\n"
     ]
    },
    {
     "name": "stderr",
     "output_type": "stream",
     "text": [
      "100%|██████████| 500/500 [00:12<00:00, 41.59it/s]\n"
     ]
    },
    {
     "name": "stdout",
     "output_type": "stream",
     "text": [
      "Number of Epoch = 18 - Average cross entropy:= 0.0046 \n",
      "                    - Average accuracy:= 0.9285\n"
     ]
    },
    {
     "name": "stderr",
     "output_type": "stream",
     "text": [
      "100%|██████████| 500/500 [00:12<00:00, 39.30it/s]\n"
     ]
    },
    {
     "name": "stdout",
     "output_type": "stream",
     "text": [
      "Number of Epoch = 19 - Average cross entropy:= 0.0045 \n",
      "                    - Average accuracy:= 0.9297\n"
     ]
    },
    {
     "name": "stderr",
     "output_type": "stream",
     "text": [
      "100%|██████████| 500/500 [00:13<00:00, 38.45it/s]\n"
     ]
    },
    {
     "name": "stdout",
     "output_type": "stream",
     "text": [
      "Number of Epoch = 20 - Average cross entropy:= 0.0046 \n",
      "                    - Average accuracy:= 0.9290\n",
      "\n",
      "Total time taken (in seconds): 267.12\n"
     ]
    }
   ],
   "source": [
    "# Validation\n",
    "# Set number of epochs\n",
    "NUM_EPOCHS = 20\n",
    "# Set random seed\n",
    "np.random.seed(597)\n",
    "tf.random.set_seed(597)\n",
    "(X_train, y_train), (X_test, y_test) = tf.keras.datasets.mnist.load_data()\n",
    "X_train = X_train/255.0\n",
    "X_test = X_test/255.0\n",
    "X_train, X_val, y_train, y_val = model_selection.train_test_split(X_train, y_train, test_size=10000, random_state=597)\n",
    "X_train = tf.reshape(X_train, (50000, 784))\n",
    "X_val = tf.reshape(X_val, (10000, 784))\n",
    "X_test = tf.reshape(X_test, (10000, 784))\n",
    "# Initialize model using GPU\n",
    "mlp = MLP(size_input, size_hidden1, size_hidden2, size_output, lr=0.002, optimizer=tf.keras.optimizers.RMSprop, reg=['l2'])\n",
    "\n",
    "time_start = time.time()\n",
    "training_df = pd.DataFrame(columns = ['epoch', 'train_loss', 'train_accuracy', 'test_loss', 'test_accuracy'])\n",
    "for epoch in range(NUM_EPOCHS):\n",
    "    loss_total = tf.zeros([1,1], dtype=tf.float32)\n",
    "    lt = 0\n",
    "    acc = []\n",
    "    train_ds = tf.data.Dataset.from_tensor_slices((X_train, y_train)).shuffle(25, seed=epoch*(597)).batch(100)\n",
    "    for inputs, outputs in tqdm(train_ds):\n",
    "        preds = mlp.forward(inputs)\n",
    "        loss_total = loss_total + mlp.loss(preds, outputs)\n",
    "        lt = lt + mlp.loss(preds, outputs)\n",
    "        acc.append(tf.keras.metrics.sparse_categorical_accuracy(outputs, preds))\n",
    "        mlp.backward(inputs, outputs)\n",
    "    avg_loss = np.sum(loss_total) / X_train.shape[0]\n",
    "    avg_acc = np.mean(acc)\n",
    "    training_df.loc[epoch, ['epoch', 'train_loss', 'train_accuracy']] = [epoch + 1, avg_loss, avg_acc]\n",
    "    print('Number of Epoch = {} - Average cross entropy:= {:.4f}'.format(epoch + 1, avg_loss),\n",
    "          '\\n                    - Average accuracy:= {:.4f}'.format(avg_acc))\n",
    "    # validation for each epoch\n",
    "    val_loss_total = tf.Variable(0, dtype=tf.float32)\n",
    "    val_acc = []\n",
    "    val_ds = tf.data.Dataset.from_tensor_slices((X_val, y_val)).shuffle(25, seed=epoch*(597)).batch(20)\n",
    "    for inputs, outputs in val_ds:\n",
    "        preds = mlp.forward(inputs)\n",
    "        val_loss_total = val_loss_total + mlp.loss(preds, outputs)\n",
    "        val_acc.append(tf.keras.metrics.sparse_categorical_accuracy(outputs, preds))\n",
    "    val_avg_loss = np.sum(val_loss_total) / X_val.shape[0]\n",
    "    val_avg_acc = np.mean(val_acc)\n",
    "    training_df.loc[epoch, ['val_loss', 'val_accuracy']] = [val_avg_loss, val_avg_acc]\n",
    "\n",
    "time_taken = time.time() - time_start\n",
    "\n",
    "print('\\nTotal time taken (in seconds): {:.2f}'.format(time_taken))"
   ]
  },
  {
   "cell_type": "code",
   "execution_count": 377,
   "metadata": {},
   "outputs": [
    {
     "data": {
      "text/plain": [
       "<matplotlib.legend.Legend at 0x1e304ee9388>"
      ]
     },
     "execution_count": 377,
     "metadata": {},
     "output_type": "execute_result"
    },
    {
     "data": {
      "image/png": "[encoded data removed]",
      "text/plain": [
       "<Figure size 1440x720 with 2 Axes>"
      ]
     },
     "metadata": {
      "needs_background": "light"
     },
     "output_type": "display_data"
    }
   ],
   "source": [
    "# Plot train validation error\n",
    "f = plt.figure(figsize=(20, 10))\n",
    "ax1 = f.add_subplot(121, xlabel = 'epoch', ylabel = 'accuracy')\n",
    "ax2 = f.add_subplot(122, xlabel = 'epoch', ylabel = 'loss')\n",
    "ax1.plot(training_df['epoch'], training_df['train_accuracy'], label = 'train')\n",
    "ax1.plot(training_df['epoch'], training_df['val_accuracy'], label = 'val')\n",
    "ax1.legend()\n",
    "ax2.plot(training_df['epoch'], training_df['train_loss'], label = 'train')\n",
    "ax2.plot(training_df['epoch'], training_df['val_loss'], label = 'val')\n",
    "ax2.legend()"
   ]
  },
  {
   "cell_type": "code",
   "execution_count": 346,
   "metadata": {},
   "outputs": [
    {
     "name": "stdout",
     "output_type": "stream",
     "text": [
      "Validation cross entropy: 0.7858 \n",
      "Test accuracy:= 0.7862\n"
     ]
    }
   ],
   "source": [
    "# Validation\n",
    "val_loss_total = tf.Variable(0, dtype=tf.float32)\n",
    "val_acc = []\n",
    "for inputs, outputs in val_ds:\n",
    "    preds = mlp.forward(inputs)\n",
    "    val_loss_total = val_loss_total + mlp.loss(preds, outputs)\n",
    "    val_acc.append(tf.keras.metrics.sparse_categorical_accuracy(outputs, preds))\n",
    "val_avg_loss = np.sum(val_loss_total) / X_val.shape[0]\n",
    "val_avg_acc = np.mean(val_acc)\n",
    "print('Validation cross entropy: {:.4f}'.format(val_avg_loss),\n",
    "      '\\nTest accuracy:= {:.4f}'.format(val_avg_acc))"
   ]
  },
  {
   "cell_type": "code",
   "execution_count": 367,
   "metadata": {},
   "outputs": [],
   "source": [
    "# Train with all training data\n",
    "def train(trail):\n",
    "    # Set number of epochs\n",
    "    NUM_EPOCHS = 20\n",
    "    # Set random seed\n",
    "    np.random.seed(trail*597)\n",
    "    tf.random.set_seed(trail*597)\n",
    "    (X_train, y_train), (X_test, y_test) = tf.keras.datasets.mnist.load_data()\n",
    "    X_train = X_train/255.0\n",
    "    X_test = X_test/255.0\n",
    "    X_train = tf.reshape(X_train, (60000, 784))\n",
    "    X_test = tf.reshape(X_test, (10000, 784))\n",
    "    # Initialize model using GPU\n",
    "    mlp = MLP(size_input, size_hidden1, size_hidden2, size_output, lr=0.001, optimizer=tf.keras.optimizers.RMSprop)\n",
    "\n",
    "    time_start = time.time()\n",
    "    training_df = pd.DataFrame(columns = ['epoch', 'train_loss', 'train_accuracy', 'test_loss', 'test_accuracy'])\n",
    "    for epoch in range(NUM_EPOCHS):\n",
    "        loss_total = tf.zeros([1,1], dtype=tf.float32)\n",
    "        lt = 0\n",
    "        acc = []\n",
    "        train_ds = tf.data.Dataset.from_tensor_slices((X_train, y_train)).shuffle(25, seed=epoch*(trail*597)).batch(100)\n",
    "        for inputs, outputs in tqdm(train_ds):\n",
    "            preds = mlp.forward(inputs)\n",
    "            loss_total = loss_total + mlp.loss(preds, outputs)\n",
    "            lt = lt + mlp.loss(preds, outputs)\n",
    "            acc.append(tf.keras.metrics.sparse_categorical_accuracy(outputs, preds))\n",
    "            mlp.backward(inputs, outputs)\n",
    "        avg_loss = np.sum(loss_total) / X_train.shape[0]\n",
    "        avg_acc = np.mean(acc)\n",
    "        training_df.loc[epoch, ['epoch', 'train_loss', 'train_accuracy']] = [epoch + 1, avg_loss, avg_acc]\n",
    "        print('Number of Epoch = {} - Average cross entropy:= {:.4f}'.format(epoch + 1, avg_loss),\n",
    "              '\\n                    - Average accuracy:= {:.4f}'.format(avg_acc))\n",
    "\n",
    "    time_taken = time.time() - time_start\n",
    "\n",
    "    print('\\nTotal time taken (in seconds): {:.2f}'.format(time_taken))\n",
    "    \n",
    "    return mlp, training_df"
   ]
  },
  {
   "cell_type": "code",
   "execution_count": 368,
   "metadata": {},
   "outputs": [
    {
     "name": "stdout",
     "output_type": "stream",
     "text": [
      "trail:  1\n"
     ]
    },
    {
     "name": "stderr",
     "output_type": "stream",
     "text": [
      "100%|██████████| 600/600 [00:12<00:00, 49.36it/s]\n"
     ]
    },
    {
     "name": "stdout",
     "output_type": "stream",
     "text": [
      "Number of Epoch = 1 - Average cross entropy:= 0.0038 \n",
      "                    - Average accuracy:= 0.9135\n"
     ]
    },
    {
     "name": "stderr",
     "output_type": "stream",
     "text": [
      "100%|██████████| 600/600 [00:12<00:00, 48.17it/s]\n"
     ]
    },
    {
     "name": "stdout",
     "output_type": "stream",
     "text": [
      "Number of Epoch = 2 - Average cross entropy:= 0.0039 \n",
      "                    - Average accuracy:= 0.9550\n"
     ]
    },
    {
     "name": "stderr",
     "output_type": "stream",
     "text": [
      "100%|██████████| 600/600 [00:12<00:00, 48.98it/s]\n"
     ]
    },
    {
     "name": "stdout",
     "output_type": "stream",
     "text": [
      "Number of Epoch = 3 - Average cross entropy:= 0.0041 \n",
      "                    - Average accuracy:= 0.9637\n"
     ]
    },
    {
     "name": "stderr",
     "output_type": "stream",
     "text": [
      "100%|██████████| 600/600 [00:11<00:00, 50.63it/s]\n"
     ]
    },
    {
     "name": "stdout",
     "output_type": "stream",
     "text": [
      "Number of Epoch = 4 - Average cross entropy:= 0.0038 \n",
      "                    - Average accuracy:= 0.9685\n"
     ]
    },
    {
     "name": "stderr",
     "output_type": "stream",
     "text": [
      "100%|██████████| 600/600 [00:11<00:00, 51.79it/s]\n"
     ]
    },
    {
     "name": "stdout",
     "output_type": "stream",
     "text": [
      "Number of Epoch = 5 - Average cross entropy:= 0.0033 \n",
      "                    - Average accuracy:= 0.9743\n"
     ]
    },
    {
     "name": "stderr",
     "output_type": "stream",
     "text": [
      "100%|██████████| 600/600 [00:12<00:00, 49.15it/s]\n"
     ]
    },
    {
     "name": "stdout",
     "output_type": "stream",
     "text": [
      "Number of Epoch = 6 - Average cross entropy:= 0.0033 \n",
      "                    - Average accuracy:= 0.9771\n"
     ]
    },
    {
     "name": "stderr",
     "output_type": "stream",
     "text": [
      "100%|██████████| 600/600 [00:12<00:00, 47.71it/s]\n"
     ]
    },
    {
     "name": "stdout",
     "output_type": "stream",
     "text": [
      "Number of Epoch = 7 - Average cross entropy:= 0.0027 \n",
      "                    - Average accuracy:= 0.9808\n"
     ]
    },
    {
     "name": "stderr",
     "output_type": "stream",
     "text": [
      "100%|██████████| 600/600 [00:11<00:00, 50.57it/s]\n"
     ]
    },
    {
     "name": "stdout",
     "output_type": "stream",
     "text": [
      "Number of Epoch = 8 - Average cross entropy:= 0.0025 \n",
      "                    - Average accuracy:= 0.9819\n"
     ]
    },
    {
     "name": "stderr",
     "output_type": "stream",
     "text": [
      "100%|██████████| 600/600 [00:11<00:00, 50.39it/s]\n"
     ]
    },
    {
     "name": "stdout",
     "output_type": "stream",
     "text": [
      "Number of Epoch = 9 - Average cross entropy:= 0.0025 \n",
      "                    - Average accuracy:= 0.9831\n"
     ]
    },
    {
     "name": "stderr",
     "output_type": "stream",
     "text": [
      "100%|██████████| 600/600 [00:12<00:00, 49.16it/s]\n"
     ]
    },
    {
     "name": "stdout",
     "output_type": "stream",
     "text": [
      "Number of Epoch = 10 - Average cross entropy:= 0.0021 \n",
      "                    - Average accuracy:= 0.9855\n"
     ]
    },
    {
     "name": "stderr",
     "output_type": "stream",
     "text": [
      "100%|██████████| 600/600 [00:14<00:00, 42.11it/s]\n"
     ]
    },
    {
     "name": "stdout",
     "output_type": "stream",
     "text": [
      "Number of Epoch = 11 - Average cross entropy:= 0.0019 \n",
      "                    - Average accuracy:= 0.9865\n"
     ]
    },
    {
     "name": "stderr",
     "output_type": "stream",
     "text": [
      "100%|██████████| 600/600 [00:12<00:00, 48.18it/s]\n"
     ]
    },
    {
     "name": "stdout",
     "output_type": "stream",
     "text": [
      "Number of Epoch = 12 - Average cross entropy:= 0.0017 \n",
      "                    - Average accuracy:= 0.9877\n"
     ]
    },
    {
     "name": "stderr",
     "output_type": "stream",
     "text": [
      "100%|██████████| 600/600 [00:11<00:00, 50.98it/s]\n"
     ]
    },
    {
     "name": "stdout",
     "output_type": "stream",
     "text": [
      "Number of Epoch = 13 - Average cross entropy:= 0.0015 \n",
      "                    - Average accuracy:= 0.9890\n"
     ]
    },
    {
     "name": "stderr",
     "output_type": "stream",
     "text": [
      "100%|██████████| 600/600 [00:12<00:00, 49.82it/s]\n"
     ]
    },
    {
     "name": "stdout",
     "output_type": "stream",
     "text": [
      "Number of Epoch = 14 - Average cross entropy:= 0.0016 \n",
      "                    - Average accuracy:= 0.9894\n"
     ]
    },
    {
     "name": "stderr",
     "output_type": "stream",
     "text": [
      "100%|██████████| 600/600 [00:11<00:00, 51.12it/s]\n"
     ]
    },
    {
     "name": "stdout",
     "output_type": "stream",
     "text": [
      "Number of Epoch = 15 - Average cross entropy:= 0.0013 \n",
      "                    - Average accuracy:= 0.9905\n"
     ]
    },
    {
     "name": "stderr",
     "output_type": "stream",
     "text": [
      "100%|██████████| 600/600 [00:11<00:00, 50.97it/s]\n"
     ]
    },
    {
     "name": "stdout",
     "output_type": "stream",
     "text": [
      "Number of Epoch = 16 - Average cross entropy:= 0.0013 \n",
      "                    - Average accuracy:= 0.9911\n"
     ]
    },
    {
     "name": "stderr",
     "output_type": "stream",
     "text": [
      "100%|██████████| 600/600 [00:11<00:00, 51.22it/s]\n"
     ]
    },
    {
     "name": "stdout",
     "output_type": "stream",
     "text": [
      "Number of Epoch = 17 - Average cross entropy:= 0.0012 \n",
      "                    - Average accuracy:= 0.9918\n"
     ]
    },
    {
     "name": "stderr",
     "output_type": "stream",
     "text": [
      "100%|██████████| 600/600 [00:11<00:00, 51.02it/s]\n"
     ]
    },
    {
     "name": "stdout",
     "output_type": "stream",
     "text": [
      "Number of Epoch = 18 - Average cross entropy:= 0.0011 \n",
      "                    - Average accuracy:= 0.9923\n"
     ]
    },
    {
     "name": "stderr",
     "output_type": "stream",
     "text": [
      "100%|██████████| 600/600 [00:11<00:00, 51.19it/s]\n"
     ]
    },
    {
     "name": "stdout",
     "output_type": "stream",
     "text": [
      "Number of Epoch = 19 - Average cross entropy:= 0.0010 \n",
      "                    - Average accuracy:= 0.9925\n"
     ]
    },
    {
     "name": "stderr",
     "output_type": "stream",
     "text": [
      "100%|██████████| 600/600 [00:11<00:00, 51.02it/s]\n"
     ]
    },
    {
     "name": "stdout",
     "output_type": "stream",
     "text": [
      "Number of Epoch = 20 - Average cross entropy:= 0.0009 \n",
      "                    - Average accuracy:= 0.9935\n",
      "\n",
      "Total time taken (in seconds): 398.05\n",
      "Test cross entropy: 0.0344 \n",
      "Test accuracy:= 0.9736\n",
      "trail:  2\n"
     ]
    },
    {
     "name": "stderr",
     "output_type": "stream",
     "text": [
      "100%|██████████| 600/600 [00:11<00:00, 50.54it/s]\n"
     ]
    },
    {
     "name": "stdout",
     "output_type": "stream",
     "text": [
      "Number of Epoch = 1 - Average cross entropy:= 0.0038 \n",
      "                    - Average accuracy:= 0.9139\n"
     ]
    },
    {
     "name": "stderr",
     "output_type": "stream",
     "text": [
      "100%|██████████| 600/600 [00:11<00:00, 50.80it/s]\n"
     ]
    },
    {
     "name": "stdout",
     "output_type": "stream",
     "text": [
      "Number of Epoch = 2 - Average cross entropy:= 0.0040 \n",
      "                    - Average accuracy:= 0.9526\n"
     ]
    },
    {
     "name": "stderr",
     "output_type": "stream",
     "text": [
      "100%|██████████| 600/600 [00:11<00:00, 50.85it/s]\n"
     ]
    },
    {
     "name": "stdout",
     "output_type": "stream",
     "text": [
      "Number of Epoch = 3 - Average cross entropy:= 0.0041 \n",
      "                    - Average accuracy:= 0.9630\n"
     ]
    },
    {
     "name": "stderr",
     "output_type": "stream",
     "text": [
      "100%|██████████| 600/600 [00:11<00:00, 50.69it/s]\n"
     ]
    },
    {
     "name": "stdout",
     "output_type": "stream",
     "text": [
      "Number of Epoch = 4 - Average cross entropy:= 0.0039 \n",
      "                    - Average accuracy:= 0.9691\n"
     ]
    },
    {
     "name": "stderr",
     "output_type": "stream",
     "text": [
      "100%|██████████| 600/600 [00:11<00:00, 50.13it/s]\n"
     ]
    },
    {
     "name": "stdout",
     "output_type": "stream",
     "text": [
      "Number of Epoch = 5 - Average cross entropy:= 0.0035 \n",
      "                    - Average accuracy:= 0.9743\n"
     ]
    },
    {
     "name": "stderr",
     "output_type": "stream",
     "text": [
      "100%|██████████| 600/600 [00:12<00:00, 47.46it/s]\n"
     ]
    },
    {
     "name": "stdout",
     "output_type": "stream",
     "text": [
      "Number of Epoch = 6 - Average cross entropy:= 0.0032 \n",
      "                    - Average accuracy:= 0.9767\n"
     ]
    },
    {
     "name": "stderr",
     "output_type": "stream",
     "text": [
      "100%|██████████| 600/600 [00:11<00:00, 50.20it/s]\n"
     ]
    },
    {
     "name": "stdout",
     "output_type": "stream",
     "text": [
      "Number of Epoch = 7 - Average cross entropy:= 0.0028 \n",
      "                    - Average accuracy:= 0.9800\n"
     ]
    },
    {
     "name": "stderr",
     "output_type": "stream",
     "text": [
      "100%|██████████| 600/600 [00:11<00:00, 50.62it/s]\n"
     ]
    },
    {
     "name": "stdout",
     "output_type": "stream",
     "text": [
      "Number of Epoch = 8 - Average cross entropy:= 0.0025 \n",
      "                    - Average accuracy:= 0.9826\n"
     ]
    },
    {
     "name": "stderr",
     "output_type": "stream",
     "text": [
      "100%|██████████| 600/600 [00:12<00:00, 47.99it/s]\n"
     ]
    },
    {
     "name": "stdout",
     "output_type": "stream",
     "text": [
      "Number of Epoch = 9 - Average cross entropy:= 0.0024 \n",
      "                    - Average accuracy:= 0.9837\n"
     ]
    },
    {
     "name": "stderr",
     "output_type": "stream",
     "text": [
      "100%|██████████| 600/600 [00:11<00:00, 50.64it/s]\n"
     ]
    },
    {
     "name": "stdout",
     "output_type": "stream",
     "text": [
      "Number of Epoch = 10 - Average cross entropy:= 0.0020 \n",
      "                    - Average accuracy:= 0.9853\n"
     ]
    },
    {
     "name": "stderr",
     "output_type": "stream",
     "text": [
      "100%|██████████| 600/600 [00:11<00:00, 50.67it/s]\n"
     ]
    },
    {
     "name": "stdout",
     "output_type": "stream",
     "text": [
      "Number of Epoch = 11 - Average cross entropy:= 0.0020 \n",
      "                    - Average accuracy:= 0.9862\n"
     ]
    },
    {
     "name": "stderr",
     "output_type": "stream",
     "text": [
      "100%|██████████| 600/600 [00:11<00:00, 50.70it/s]\n"
     ]
    },
    {
     "name": "stdout",
     "output_type": "stream",
     "text": [
      "Number of Epoch = 12 - Average cross entropy:= 0.0017 \n",
      "                    - Average accuracy:= 0.9876\n"
     ]
    },
    {
     "name": "stderr",
     "output_type": "stream",
     "text": [
      "100%|██████████| 600/600 [00:11<00:00, 50.04it/s]\n"
     ]
    },
    {
     "name": "stdout",
     "output_type": "stream",
     "text": [
      "Number of Epoch = 13 - Average cross entropy:= 0.0015 \n",
      "                    - Average accuracy:= 0.9887\n"
     ]
    },
    {
     "name": "stderr",
     "output_type": "stream",
     "text": [
      "100%|██████████| 600/600 [00:11<00:00, 50.34it/s]\n"
     ]
    },
    {
     "name": "stdout",
     "output_type": "stream",
     "text": [
      "Number of Epoch = 14 - Average cross entropy:= 0.0014 \n",
      "                    - Average accuracy:= 0.9896\n"
     ]
    },
    {
     "name": "stderr",
     "output_type": "stream",
     "text": [
      "100%|██████████| 600/600 [00:11<00:00, 50.71it/s]\n"
     ]
    },
    {
     "name": "stdout",
     "output_type": "stream",
     "text": [
      "Number of Epoch = 15 - Average cross entropy:= 0.0013 \n",
      "                    - Average accuracy:= 0.9905\n"
     ]
    },
    {
     "name": "stderr",
     "output_type": "stream",
     "text": [
      "100%|██████████| 600/600 [00:11<00:00, 50.75it/s]\n"
     ]
    },
    {
     "name": "stdout",
     "output_type": "stream",
     "text": [
      "Number of Epoch = 16 - Average cross entropy:= 0.0012 \n",
      "                    - Average accuracy:= 0.9911\n"
     ]
    },
    {
     "name": "stderr",
     "output_type": "stream",
     "text": [
      "100%|██████████| 600/600 [00:11<00:00, 50.41it/s]\n"
     ]
    },
    {
     "name": "stdout",
     "output_type": "stream",
     "text": [
      "Number of Epoch = 17 - Average cross entropy:= 0.0012 \n",
      "                    - Average accuracy:= 0.9911\n"
     ]
    },
    {
     "name": "stderr",
     "output_type": "stream",
     "text": [
      "100%|██████████| 600/600 [00:11<00:00, 50.54it/s]\n"
     ]
    },
    {
     "name": "stdout",
     "output_type": "stream",
     "text": [
      "Number of Epoch = 18 - Average cross entropy:= 0.0012 \n",
      "                    - Average accuracy:= 0.9914\n"
     ]
    },
    {
     "name": "stderr",
     "output_type": "stream",
     "text": [
      "100%|██████████| 600/600 [00:11<00:00, 50.39it/s]\n"
     ]
    },
    {
     "name": "stdout",
     "output_type": "stream",
     "text": [
      "Number of Epoch = 19 - Average cross entropy:= 0.0010 \n",
      "                    - Average accuracy:= 0.9921\n"
     ]
    },
    {
     "name": "stderr",
     "output_type": "stream",
     "text": [
      "100%|██████████| 600/600 [00:11<00:00, 50.61it/s]\n"
     ]
    },
    {
     "name": "stdout",
     "output_type": "stream",
     "text": [
      "Number of Epoch = 20 - Average cross entropy:= 0.0009 \n",
      "                    - Average accuracy:= 0.9932\n",
      "\n",
      "Total time taken (in seconds): 394.65\n",
      "Test cross entropy: 0.0298 \n",
      "Test accuracy:= 0.9761\n",
      "trail:  3\n"
     ]
    },
    {
     "name": "stderr",
     "output_type": "stream",
     "text": [
      "100%|██████████| 600/600 [00:11<00:00, 50.89it/s]\n"
     ]
    },
    {
     "name": "stdout",
     "output_type": "stream",
     "text": [
      "Number of Epoch = 1 - Average cross entropy:= 0.0038 \n",
      "                    - Average accuracy:= 0.9148\n"
     ]
    },
    {
     "name": "stderr",
     "output_type": "stream",
     "text": [
      "100%|██████████| 600/600 [00:11<00:00, 50.22it/s]\n"
     ]
    },
    {
     "name": "stdout",
     "output_type": "stream",
     "text": [
      "Number of Epoch = 2 - Average cross entropy:= 0.0042 \n",
      "                    - Average accuracy:= 0.9529\n"
     ]
    },
    {
     "name": "stderr",
     "output_type": "stream",
     "text": [
      "100%|██████████| 600/600 [00:11<00:00, 50.80it/s]\n"
     ]
    },
    {
     "name": "stdout",
     "output_type": "stream",
     "text": [
      "Number of Epoch = 3 - Average cross entropy:= 0.0041 \n",
      "                    - Average accuracy:= 0.9642\n"
     ]
    },
    {
     "name": "stderr",
     "output_type": "stream",
     "text": [
      "100%|██████████| 600/600 [00:11<00:00, 50.93it/s]\n"
     ]
    },
    {
     "name": "stdout",
     "output_type": "stream",
     "text": [
      "Number of Epoch = 4 - Average cross entropy:= 0.0036 \n",
      "                    - Average accuracy:= 0.9700\n"
     ]
    },
    {
     "name": "stderr",
     "output_type": "stream",
     "text": [
      "100%|██████████| 600/600 [00:11<00:00, 50.89it/s]\n"
     ]
    },
    {
     "name": "stdout",
     "output_type": "stream",
     "text": [
      "Number of Epoch = 5 - Average cross entropy:= 0.0034 \n",
      "                    - Average accuracy:= 0.9737\n"
     ]
    },
    {
     "name": "stderr",
     "output_type": "stream",
     "text": [
      "100%|██████████| 600/600 [00:11<00:00, 50.87it/s]\n"
     ]
    },
    {
     "name": "stdout",
     "output_type": "stream",
     "text": [
      "Number of Epoch = 6 - Average cross entropy:= 0.0031 \n",
      "                    - Average accuracy:= 0.9779\n"
     ]
    },
    {
     "name": "stderr",
     "output_type": "stream",
     "text": [
      "100%|██████████| 600/600 [00:11<00:00, 51.04it/s]\n"
     ]
    },
    {
     "name": "stdout",
     "output_type": "stream",
     "text": [
      "Number of Epoch = 7 - Average cross entropy:= 0.0029 \n",
      "                    - Average accuracy:= 0.9801\n"
     ]
    },
    {
     "name": "stderr",
     "output_type": "stream",
     "text": [
      "100%|██████████| 600/600 [00:11<00:00, 50.24it/s]\n"
     ]
    },
    {
     "name": "stdout",
     "output_type": "stream",
     "text": [
      "Number of Epoch = 8 - Average cross entropy:= 0.0025 \n",
      "                    - Average accuracy:= 0.9826\n"
     ]
    },
    {
     "name": "stderr",
     "output_type": "stream",
     "text": [
      "100%|██████████| 600/600 [00:11<00:00, 51.00it/s]\n"
     ]
    },
    {
     "name": "stdout",
     "output_type": "stream",
     "text": [
      "Number of Epoch = 9 - Average cross entropy:= 0.0021 \n",
      "                    - Average accuracy:= 0.9851\n"
     ]
    },
    {
     "name": "stderr",
     "output_type": "stream",
     "text": [
      "100%|██████████| 600/600 [00:11<00:00, 50.55it/s]\n"
     ]
    },
    {
     "name": "stdout",
     "output_type": "stream",
     "text": [
      "Number of Epoch = 10 - Average cross entropy:= 0.0021 \n",
      "                    - Average accuracy:= 0.9856\n"
     ]
    },
    {
     "name": "stderr",
     "output_type": "stream",
     "text": [
      "100%|██████████| 600/600 [00:11<00:00, 51.12it/s]\n"
     ]
    },
    {
     "name": "stdout",
     "output_type": "stream",
     "text": [
      "Number of Epoch = 11 - Average cross entropy:= 0.0019 \n",
      "                    - Average accuracy:= 0.9869\n"
     ]
    },
    {
     "name": "stderr",
     "output_type": "stream",
     "text": [
      "100%|██████████| 600/600 [00:11<00:00, 51.11it/s]\n"
     ]
    },
    {
     "name": "stdout",
     "output_type": "stream",
     "text": [
      "Number of Epoch = 12 - Average cross entropy:= 0.0018 \n",
      "                    - Average accuracy:= 0.9875\n"
     ]
    },
    {
     "name": "stderr",
     "output_type": "stream",
     "text": [
      "100%|██████████| 600/600 [00:11<00:00, 50.80it/s]\n"
     ]
    },
    {
     "name": "stdout",
     "output_type": "stream",
     "text": [
      "Number of Epoch = 13 - Average cross entropy:= 0.0015 \n",
      "                    - Average accuracy:= 0.9886\n"
     ]
    },
    {
     "name": "stderr",
     "output_type": "stream",
     "text": [
      "100%|██████████| 600/600 [00:11<00:00, 50.09it/s]\n"
     ]
    },
    {
     "name": "stdout",
     "output_type": "stream",
     "text": [
      "Number of Epoch = 14 - Average cross entropy:= 0.0015 \n",
      "                    - Average accuracy:= 0.9894\n"
     ]
    },
    {
     "name": "stderr",
     "output_type": "stream",
     "text": [
      "100%|██████████| 600/600 [00:11<00:00, 50.50it/s]\n"
     ]
    },
    {
     "name": "stdout",
     "output_type": "stream",
     "text": [
      "Number of Epoch = 15 - Average cross entropy:= 0.0013 \n",
      "                    - Average accuracy:= 0.9906\n"
     ]
    },
    {
     "name": "stderr",
     "output_type": "stream",
     "text": [
      "100%|██████████| 600/600 [00:11<00:00, 50.64it/s]\n"
     ]
    },
    {
     "name": "stdout",
     "output_type": "stream",
     "text": [
      "Number of Epoch = 16 - Average cross entropy:= 0.0012 \n",
      "                    - Average accuracy:= 0.9906\n"
     ]
    },
    {
     "name": "stderr",
     "output_type": "stream",
     "text": [
      "100%|██████████| 600/600 [00:11<00:00, 50.88it/s]\n"
     ]
    },
    {
     "name": "stdout",
     "output_type": "stream",
     "text": [
      "Number of Epoch = 17 - Average cross entropy:= 0.0012 \n",
      "                    - Average accuracy:= 0.9915\n"
     ]
    },
    {
     "name": "stderr",
     "output_type": "stream",
     "text": [
      "100%|██████████| 600/600 [00:11<00:00, 51.18it/s]\n"
     ]
    },
    {
     "name": "stdout",
     "output_type": "stream",
     "text": [
      "Number of Epoch = 18 - Average cross entropy:= 0.0010 \n",
      "                    - Average accuracy:= 0.9923\n"
     ]
    },
    {
     "name": "stderr",
     "output_type": "stream",
     "text": [
      "100%|██████████| 600/600 [00:11<00:00, 50.97it/s]\n"
     ]
    },
    {
     "name": "stdout",
     "output_type": "stream",
     "text": [
      "Number of Epoch = 19 - Average cross entropy:= 0.0009 \n",
      "                    - Average accuracy:= 0.9927\n"
     ]
    },
    {
     "name": "stderr",
     "output_type": "stream",
     "text": [
      "100%|██████████| 600/600 [00:11<00:00, 50.50it/s]\n"
     ]
    },
    {
     "name": "stdout",
     "output_type": "stream",
     "text": [
      "Number of Epoch = 20 - Average cross entropy:= 0.0008 \n",
      "                    - Average accuracy:= 0.9930\n",
      "\n",
      "Total time taken (in seconds): 391.53\n",
      "Test cross entropy: 0.0360 \n",
      "Test accuracy:= 0.9711\n",
      "trail:  4\n"
     ]
    },
    {
     "name": "stderr",
     "output_type": "stream",
     "text": [
      "100%|██████████| 600/600 [00:11<00:00, 50.96it/s]\n"
     ]
    },
    {
     "name": "stdout",
     "output_type": "stream",
     "text": [
      "Number of Epoch = 1 - Average cross entropy:= 0.0037 \n",
      "                    - Average accuracy:= 0.9160\n"
     ]
    },
    {
     "name": "stderr",
     "output_type": "stream",
     "text": [
      "100%|██████████| 600/600 [00:11<00:00, 51.17it/s]\n"
     ]
    },
    {
     "name": "stdout",
     "output_type": "stream",
     "text": [
      "Number of Epoch = 2 - Average cross entropy:= 0.0039 \n",
      "                    - Average accuracy:= 0.9551\n"
     ]
    },
    {
     "name": "stderr",
     "output_type": "stream",
     "text": [
      "100%|██████████| 600/600 [00:11<00:00, 51.18it/s]\n"
     ]
    },
    {
     "name": "stdout",
     "output_type": "stream",
     "text": [
      "Number of Epoch = 3 - Average cross entropy:= 0.0041 \n",
      "                    - Average accuracy:= 0.9634\n"
     ]
    },
    {
     "name": "stderr",
     "output_type": "stream",
     "text": [
      "100%|██████████| 600/600 [00:11<00:00, 51.16it/s]\n"
     ]
    },
    {
     "name": "stdout",
     "output_type": "stream",
     "text": [
      "Number of Epoch = 4 - Average cross entropy:= 0.0038 \n",
      "                    - Average accuracy:= 0.9695\n"
     ]
    },
    {
     "name": "stderr",
     "output_type": "stream",
     "text": [
      "100%|██████████| 600/600 [00:11<00:00, 50.68it/s]\n"
     ]
    },
    {
     "name": "stdout",
     "output_type": "stream",
     "text": [
      "Number of Epoch = 5 - Average cross entropy:= 0.0035 \n",
      "                    - Average accuracy:= 0.9730\n"
     ]
    },
    {
     "name": "stderr",
     "output_type": "stream",
     "text": [
      "100%|██████████| 600/600 [00:11<00:00, 50.74it/s]\n"
     ]
    },
    {
     "name": "stdout",
     "output_type": "stream",
     "text": [
      "Number of Epoch = 6 - Average cross entropy:= 0.0031 \n",
      "                    - Average accuracy:= 0.9773\n"
     ]
    },
    {
     "name": "stderr",
     "output_type": "stream",
     "text": [
      "100%|██████████| 600/600 [00:12<00:00, 49.70it/s]\n"
     ]
    },
    {
     "name": "stdout",
     "output_type": "stream",
     "text": [
      "Number of Epoch = 7 - Average cross entropy:= 0.0027 \n",
      "                    - Average accuracy:= 0.9797\n"
     ]
    },
    {
     "name": "stderr",
     "output_type": "stream",
     "text": [
      "100%|██████████| 600/600 [00:11<00:00, 50.85it/s]\n"
     ]
    },
    {
     "name": "stdout",
     "output_type": "stream",
     "text": [
      "Number of Epoch = 8 - Average cross entropy:= 0.0027 \n",
      "                    - Average accuracy:= 0.9807\n"
     ]
    },
    {
     "name": "stderr",
     "output_type": "stream",
     "text": [
      "100%|██████████| 600/600 [00:11<00:00, 50.57it/s]\n"
     ]
    },
    {
     "name": "stdout",
     "output_type": "stream",
     "text": [
      "Number of Epoch = 9 - Average cross entropy:= 0.0025 \n",
      "                    - Average accuracy:= 0.9829\n"
     ]
    },
    {
     "name": "stderr",
     "output_type": "stream",
     "text": [
      "100%|██████████| 600/600 [00:11<00:00, 50.88it/s]\n"
     ]
    },
    {
     "name": "stdout",
     "output_type": "stream",
     "text": [
      "Number of Epoch = 10 - Average cross entropy:= 0.0023 \n",
      "                    - Average accuracy:= 0.9850\n"
     ]
    },
    {
     "name": "stderr",
     "output_type": "stream",
     "text": [
      "100%|██████████| 600/600 [00:11<00:00, 50.79it/s]\n"
     ]
    },
    {
     "name": "stdout",
     "output_type": "stream",
     "text": [
      "Number of Epoch = 11 - Average cross entropy:= 0.0019 \n",
      "                    - Average accuracy:= 0.9863\n"
     ]
    },
    {
     "name": "stderr",
     "output_type": "stream",
     "text": [
      "100%|██████████| 600/600 [00:11<00:00, 50.81it/s]\n"
     ]
    },
    {
     "name": "stdout",
     "output_type": "stream",
     "text": [
      "Number of Epoch = 12 - Average cross entropy:= 0.0017 \n",
      "                    - Average accuracy:= 0.9876\n"
     ]
    },
    {
     "name": "stderr",
     "output_type": "stream",
     "text": [
      "100%|██████████| 600/600 [00:11<00:00, 51.12it/s]\n"
     ]
    },
    {
     "name": "stdout",
     "output_type": "stream",
     "text": [
      "Number of Epoch = 13 - Average cross entropy:= 0.0015 \n",
      "                    - Average accuracy:= 0.9888\n"
     ]
    },
    {
     "name": "stderr",
     "output_type": "stream",
     "text": [
      "100%|██████████| 600/600 [00:12<00:00, 49.94it/s]\n"
     ]
    },
    {
     "name": "stdout",
     "output_type": "stream",
     "text": [
      "Number of Epoch = 14 - Average cross entropy:= 0.0014 \n",
      "                    - Average accuracy:= 0.9898\n"
     ]
    },
    {
     "name": "stderr",
     "output_type": "stream",
     "text": [
      "100%|██████████| 600/600 [00:11<00:00, 51.04it/s]\n"
     ]
    },
    {
     "name": "stdout",
     "output_type": "stream",
     "text": [
      "Number of Epoch = 15 - Average cross entropy:= 0.0013 \n",
      "                    - Average accuracy:= 0.9903\n"
     ]
    },
    {
     "name": "stderr",
     "output_type": "stream",
     "text": [
      "100%|██████████| 600/600 [00:11<00:00, 51.17it/s]\n"
     ]
    },
    {
     "name": "stdout",
     "output_type": "stream",
     "text": [
      "Number of Epoch = 16 - Average cross entropy:= 0.0012 \n",
      "                    - Average accuracy:= 0.9904\n"
     ]
    },
    {
     "name": "stderr",
     "output_type": "stream",
     "text": [
      "100%|██████████| 600/600 [00:11<00:00, 50.83it/s]\n"
     ]
    },
    {
     "name": "stdout",
     "output_type": "stream",
     "text": [
      "Number of Epoch = 17 - Average cross entropy:= 0.0011 \n",
      "                    - Average accuracy:= 0.9917\n"
     ]
    },
    {
     "name": "stderr",
     "output_type": "stream",
     "text": [
      "100%|██████████| 600/600 [00:11<00:00, 50.74it/s]\n"
     ]
    },
    {
     "name": "stdout",
     "output_type": "stream",
     "text": [
      "Number of Epoch = 18 - Average cross entropy:= 0.0010 \n",
      "                    - Average accuracy:= 0.9928\n"
     ]
    },
    {
     "name": "stderr",
     "output_type": "stream",
     "text": [
      "100%|██████████| 600/600 [00:11<00:00, 50.24it/s]\n"
     ]
    },
    {
     "name": "stdout",
     "output_type": "stream",
     "text": [
      "Number of Epoch = 19 - Average cross entropy:= 0.0009 \n",
      "                    - Average accuracy:= 0.9930\n"
     ]
    },
    {
     "name": "stderr",
     "output_type": "stream",
     "text": [
      "100%|██████████| 600/600 [00:12<00:00, 48.17it/s]\n"
     ]
    },
    {
     "name": "stdout",
     "output_type": "stream",
     "text": [
      "Number of Epoch = 20 - Average cross entropy:= 0.0010 \n",
      "                    - Average accuracy:= 0.9926\n",
      "\n",
      "Total time taken (in seconds): 394.19\n",
      "Test cross entropy: 0.0408 \n",
      "Test accuracy:= 0.9677\n",
      "trail:  5\n"
     ]
    },
    {
     "name": "stderr",
     "output_type": "stream",
     "text": [
      "100%|██████████| 600/600 [00:11<00:00, 51.22it/s]\n"
     ]
    },
    {
     "name": "stdout",
     "output_type": "stream",
     "text": [
      "Number of Epoch = 1 - Average cross entropy:= 0.0038 \n",
      "                    - Average accuracy:= 0.9136\n"
     ]
    },
    {
     "name": "stderr",
     "output_type": "stream",
     "text": [
      "100%|██████████| 600/600 [00:11<00:00, 51.50it/s]\n"
     ]
    },
    {
     "name": "stdout",
     "output_type": "stream",
     "text": [
      "Number of Epoch = 2 - Average cross entropy:= 0.0042 \n",
      "                    - Average accuracy:= 0.9526\n"
     ]
    },
    {
     "name": "stderr",
     "output_type": "stream",
     "text": [
      "100%|██████████| 600/600 [00:11<00:00, 51.22it/s]\n"
     ]
    },
    {
     "name": "stdout",
     "output_type": "stream",
     "text": [
      "Number of Epoch = 3 - Average cross entropy:= 0.0041 \n",
      "                    - Average accuracy:= 0.9628\n"
     ]
    },
    {
     "name": "stderr",
     "output_type": "stream",
     "text": [
      "100%|██████████| 600/600 [00:11<00:00, 51.44it/s]\n"
     ]
    },
    {
     "name": "stdout",
     "output_type": "stream",
     "text": [
      "Number of Epoch = 4 - Average cross entropy:= 0.0038 \n",
      "                    - Average accuracy:= 0.9688\n"
     ]
    },
    {
     "name": "stderr",
     "output_type": "stream",
     "text": [
      "100%|██████████| 600/600 [00:11<00:00, 51.24it/s]\n"
     ]
    },
    {
     "name": "stdout",
     "output_type": "stream",
     "text": [
      "Number of Epoch = 5 - Average cross entropy:= 0.0032 \n",
      "                    - Average accuracy:= 0.9750\n"
     ]
    },
    {
     "name": "stderr",
     "output_type": "stream",
     "text": [
      "100%|██████████| 600/600 [00:11<00:00, 50.87it/s]\n"
     ]
    },
    {
     "name": "stdout",
     "output_type": "stream",
     "text": [
      "Number of Epoch = 6 - Average cross entropy:= 0.0028 \n",
      "                    - Average accuracy:= 0.9785\n"
     ]
    },
    {
     "name": "stderr",
     "output_type": "stream",
     "text": [
      "100%|██████████| 600/600 [00:11<00:00, 51.60it/s]\n"
     ]
    },
    {
     "name": "stdout",
     "output_type": "stream",
     "text": [
      "Number of Epoch = 7 - Average cross entropy:= 0.0028 \n",
      "                    - Average accuracy:= 0.9791\n"
     ]
    },
    {
     "name": "stderr",
     "output_type": "stream",
     "text": [
      "100%|██████████| 600/600 [00:11<00:00, 50.99it/s]\n"
     ]
    },
    {
     "name": "stdout",
     "output_type": "stream",
     "text": [
      "Number of Epoch = 8 - Average cross entropy:= 0.0025 \n",
      "                    - Average accuracy:= 0.9816\n"
     ]
    },
    {
     "name": "stderr",
     "output_type": "stream",
     "text": [
      "100%|██████████| 600/600 [00:11<00:00, 51.31it/s]\n"
     ]
    },
    {
     "name": "stdout",
     "output_type": "stream",
     "text": [
      "Number of Epoch = 9 - Average cross entropy:= 0.0023 \n",
      "                    - Average accuracy:= 0.9837\n"
     ]
    },
    {
     "name": "stderr",
     "output_type": "stream",
     "text": [
      "100%|██████████| 600/600 [00:11<00:00, 51.52it/s]\n"
     ]
    },
    {
     "name": "stdout",
     "output_type": "stream",
     "text": [
      "Number of Epoch = 10 - Average cross entropy:= 0.0020 \n",
      "                    - Average accuracy:= 0.9853\n"
     ]
    },
    {
     "name": "stderr",
     "output_type": "stream",
     "text": [
      "100%|██████████| 600/600 [00:11<00:00, 51.72it/s]\n"
     ]
    },
    {
     "name": "stdout",
     "output_type": "stream",
     "text": [
      "Number of Epoch = 11 - Average cross entropy:= 0.0019 \n",
      "                    - Average accuracy:= 0.9863\n"
     ]
    },
    {
     "name": "stderr",
     "output_type": "stream",
     "text": [
      "100%|██████████| 600/600 [00:11<00:00, 51.65it/s]\n"
     ]
    },
    {
     "name": "stdout",
     "output_type": "stream",
     "text": [
      "Number of Epoch = 12 - Average cross entropy:= 0.0019 \n",
      "                    - Average accuracy:= 0.9875\n"
     ]
    },
    {
     "name": "stderr",
     "output_type": "stream",
     "text": [
      "100%|██████████| 600/600 [00:11<00:00, 51.22it/s]\n"
     ]
    },
    {
     "name": "stdout",
     "output_type": "stream",
     "text": [
      "Number of Epoch = 13 - Average cross entropy:= 0.0016 \n",
      "                    - Average accuracy:= 0.9882\n"
     ]
    },
    {
     "name": "stderr",
     "output_type": "stream",
     "text": [
      "100%|██████████| 600/600 [00:11<00:00, 50.61it/s]\n"
     ]
    },
    {
     "name": "stdout",
     "output_type": "stream",
     "text": [
      "Number of Epoch = 14 - Average cross entropy:= 0.0015 \n",
      "                    - Average accuracy:= 0.9891\n"
     ]
    },
    {
     "name": "stderr",
     "output_type": "stream",
     "text": [
      "100%|██████████| 600/600 [00:11<00:00, 51.34it/s]\n"
     ]
    },
    {
     "name": "stdout",
     "output_type": "stream",
     "text": [
      "Number of Epoch = 15 - Average cross entropy:= 0.0014 \n",
      "                    - Average accuracy:= 0.9897\n"
     ]
    },
    {
     "name": "stderr",
     "output_type": "stream",
     "text": [
      "100%|██████████| 600/600 [00:11<00:00, 50.67it/s]\n"
     ]
    },
    {
     "name": "stdout",
     "output_type": "stream",
     "text": [
      "Number of Epoch = 16 - Average cross entropy:= 0.0011 \n",
      "                    - Average accuracy:= 0.9911\n"
     ]
    },
    {
     "name": "stderr",
     "output_type": "stream",
     "text": [
      "100%|██████████| 600/600 [00:11<00:00, 51.19it/s]\n"
     ]
    },
    {
     "name": "stdout",
     "output_type": "stream",
     "text": [
      "Number of Epoch = 17 - Average cross entropy:= 0.0011 \n",
      "                    - Average accuracy:= 0.9914\n"
     ]
    },
    {
     "name": "stderr",
     "output_type": "stream",
     "text": [
      "100%|██████████| 600/600 [00:11<00:00, 50.75it/s]\n"
     ]
    },
    {
     "name": "stdout",
     "output_type": "stream",
     "text": [
      "Number of Epoch = 18 - Average cross entropy:= 0.0010 \n",
      "                    - Average accuracy:= 0.9922\n"
     ]
    },
    {
     "name": "stderr",
     "output_type": "stream",
     "text": [
      "100%|██████████| 600/600 [00:11<00:00, 51.20it/s]\n"
     ]
    },
    {
     "name": "stdout",
     "output_type": "stream",
     "text": [
      "Number of Epoch = 19 - Average cross entropy:= 0.0009 \n",
      "                    - Average accuracy:= 0.9928\n"
     ]
    },
    {
     "name": "stderr",
     "output_type": "stream",
     "text": [
      "100%|██████████| 600/600 [00:11<00:00, 51.04it/s]\n"
     ]
    },
    {
     "name": "stdout",
     "output_type": "stream",
     "text": [
      "Number of Epoch = 20 - Average cross entropy:= 0.0009 \n",
      "                    - Average accuracy:= 0.9932\n",
      "\n",
      "Total time taken (in seconds): 390.19\n",
      "Test cross entropy: 0.0271 \n",
      "Test accuracy:= 0.9770\n",
      "trail:  6\n"
     ]
    },
    {
     "name": "stderr",
     "output_type": "stream",
     "text": [
      "100%|██████████| 600/600 [00:11<00:00, 51.30it/s]\n"
     ]
    },
    {
     "name": "stdout",
     "output_type": "stream",
     "text": [
      "Number of Epoch = 1 - Average cross entropy:= 0.0037 \n",
      "                    - Average accuracy:= 0.9151\n"
     ]
    },
    {
     "name": "stderr",
     "output_type": "stream",
     "text": [
      "100%|██████████| 600/600 [00:11<00:00, 51.16it/s]\n"
     ]
    },
    {
     "name": "stdout",
     "output_type": "stream",
     "text": [
      "Number of Epoch = 2 - Average cross entropy:= 0.0039 \n",
      "                    - Average accuracy:= 0.9528\n"
     ]
    },
    {
     "name": "stderr",
     "output_type": "stream",
     "text": [
      "100%|██████████| 600/600 [00:11<00:00, 50.47it/s]\n"
     ]
    },
    {
     "name": "stdout",
     "output_type": "stream",
     "text": [
      "Number of Epoch = 3 - Average cross entropy:= 0.0042 \n",
      "                    - Average accuracy:= 0.9629\n"
     ]
    },
    {
     "name": "stderr",
     "output_type": "stream",
     "text": [
      "100%|██████████| 600/600 [00:11<00:00, 51.64it/s]\n"
     ]
    },
    {
     "name": "stdout",
     "output_type": "stream",
     "text": [
      "Number of Epoch = 4 - Average cross entropy:= 0.0038 \n",
      "                    - Average accuracy:= 0.9689\n"
     ]
    },
    {
     "name": "stderr",
     "output_type": "stream",
     "text": [
      "100%|██████████| 600/600 [00:11<00:00, 51.25it/s]\n"
     ]
    },
    {
     "name": "stdout",
     "output_type": "stream",
     "text": [
      "Number of Epoch = 5 - Average cross entropy:= 0.0034 \n",
      "                    - Average accuracy:= 0.9743\n"
     ]
    },
    {
     "name": "stderr",
     "output_type": "stream",
     "text": [
      "100%|██████████| 600/600 [00:11<00:00, 50.17it/s]\n"
     ]
    },
    {
     "name": "stdout",
     "output_type": "stream",
     "text": [
      "Number of Epoch = 6 - Average cross entropy:= 0.0031 \n",
      "                    - Average accuracy:= 0.9771\n"
     ]
    },
    {
     "name": "stderr",
     "output_type": "stream",
     "text": [
      "100%|██████████| 600/600 [00:11<00:00, 50.42it/s]\n"
     ]
    },
    {
     "name": "stdout",
     "output_type": "stream",
     "text": [
      "Number of Epoch = 7 - Average cross entropy:= 0.0027 \n",
      "                    - Average accuracy:= 0.9802\n"
     ]
    },
    {
     "name": "stderr",
     "output_type": "stream",
     "text": [
      "100%|██████████| 600/600 [00:11<00:00, 51.32it/s]\n"
     ]
    },
    {
     "name": "stdout",
     "output_type": "stream",
     "text": [
      "Number of Epoch = 8 - Average cross entropy:= 0.0024 \n",
      "                    - Average accuracy:= 0.9820\n"
     ]
    },
    {
     "name": "stderr",
     "output_type": "stream",
     "text": [
      "100%|██████████| 600/600 [00:11<00:00, 51.31it/s]\n"
     ]
    },
    {
     "name": "stdout",
     "output_type": "stream",
     "text": [
      "Number of Epoch = 9 - Average cross entropy:= 0.0024 \n",
      "                    - Average accuracy:= 0.9833\n"
     ]
    },
    {
     "name": "stderr",
     "output_type": "stream",
     "text": [
      "100%|██████████| 600/600 [00:11<00:00, 51.42it/s]\n"
     ]
    },
    {
     "name": "stdout",
     "output_type": "stream",
     "text": [
      "Number of Epoch = 10 - Average cross entropy:= 0.0021 \n",
      "                    - Average accuracy:= 0.9848\n"
     ]
    },
    {
     "name": "stderr",
     "output_type": "stream",
     "text": [
      "100%|██████████| 600/600 [00:12<00:00, 47.88it/s]\n"
     ]
    },
    {
     "name": "stdout",
     "output_type": "stream",
     "text": [
      "Number of Epoch = 11 - Average cross entropy:= 0.0019 \n",
      "                    - Average accuracy:= 0.9869\n"
     ]
    },
    {
     "name": "stderr",
     "output_type": "stream",
     "text": [
      "100%|██████████| 600/600 [00:11<00:00, 50.22it/s]\n"
     ]
    },
    {
     "name": "stdout",
     "output_type": "stream",
     "text": [
      "Number of Epoch = 12 - Average cross entropy:= 0.0017 \n",
      "                    - Average accuracy:= 0.9883\n"
     ]
    },
    {
     "name": "stderr",
     "output_type": "stream",
     "text": [
      "100%|██████████| 600/600 [00:11<00:00, 51.31it/s]\n"
     ]
    },
    {
     "name": "stdout",
     "output_type": "stream",
     "text": [
      "Number of Epoch = 13 - Average cross entropy:= 0.0015 \n",
      "                    - Average accuracy:= 0.9892\n"
     ]
    },
    {
     "name": "stderr",
     "output_type": "stream",
     "text": [
      "100%|██████████| 600/600 [00:11<00:00, 51.19it/s]\n"
     ]
    },
    {
     "name": "stdout",
     "output_type": "stream",
     "text": [
      "Number of Epoch = 14 - Average cross entropy:= 0.0015 \n",
      "                    - Average accuracy:= 0.9892\n"
     ]
    },
    {
     "name": "stderr",
     "output_type": "stream",
     "text": [
      "100%|██████████| 600/600 [00:11<00:00, 50.75it/s]\n"
     ]
    },
    {
     "name": "stdout",
     "output_type": "stream",
     "text": [
      "Number of Epoch = 15 - Average cross entropy:= 0.0014 \n",
      "                    - Average accuracy:= 0.9904\n"
     ]
    },
    {
     "name": "stderr",
     "output_type": "stream",
     "text": [
      "100%|██████████| 600/600 [00:11<00:00, 50.56it/s]\n"
     ]
    },
    {
     "name": "stdout",
     "output_type": "stream",
     "text": [
      "Number of Epoch = 16 - Average cross entropy:= 0.0013 \n",
      "                    - Average accuracy:= 0.9909\n"
     ]
    },
    {
     "name": "stderr",
     "output_type": "stream",
     "text": [
      "100%|██████████| 600/600 [00:11<00:00, 50.79it/s]\n"
     ]
    },
    {
     "name": "stdout",
     "output_type": "stream",
     "text": [
      "Number of Epoch = 17 - Average cross entropy:= 0.0012 \n",
      "                    - Average accuracy:= 0.9921\n"
     ]
    },
    {
     "name": "stderr",
     "output_type": "stream",
     "text": [
      "100%|██████████| 600/600 [00:11<00:00, 50.07it/s]\n"
     ]
    },
    {
     "name": "stdout",
     "output_type": "stream",
     "text": [
      "Number of Epoch = 18 - Average cross entropy:= 0.0010 \n",
      "                    - Average accuracy:= 0.9920\n"
     ]
    },
    {
     "name": "stderr",
     "output_type": "stream",
     "text": [
      "100%|██████████| 600/600 [00:11<00:00, 51.28it/s]\n"
     ]
    },
    {
     "name": "stdout",
     "output_type": "stream",
     "text": [
      "Number of Epoch = 19 - Average cross entropy:= 0.0010 \n",
      "                    - Average accuracy:= 0.9921\n"
     ]
    },
    {
     "name": "stderr",
     "output_type": "stream",
     "text": [
      "100%|██████████| 600/600 [00:11<00:00, 50.97it/s]\n"
     ]
    },
    {
     "name": "stdout",
     "output_type": "stream",
     "text": [
      "Number of Epoch = 20 - Average cross entropy:= 0.0009 \n",
      "                    - Average accuracy:= 0.9932\n",
      "\n",
      "Total time taken (in seconds): 391.35\n",
      "Test cross entropy: 0.0279 \n",
      "Test accuracy:= 0.9748\n",
      "trail:  7\n"
     ]
    },
    {
     "name": "stderr",
     "output_type": "stream",
     "text": [
      "100%|██████████| 600/600 [00:11<00:00, 51.19it/s]\n"
     ]
    },
    {
     "name": "stdout",
     "output_type": "stream",
     "text": [
      "Number of Epoch = 1 - Average cross entropy:= 0.0040 \n",
      "                    - Average accuracy:= 0.9126\n"
     ]
    },
    {
     "name": "stderr",
     "output_type": "stream",
     "text": [
      "100%|██████████| 600/600 [00:11<00:00, 51.08it/s]\n"
     ]
    },
    {
     "name": "stdout",
     "output_type": "stream",
     "text": [
      "Number of Epoch = 2 - Average cross entropy:= 0.0041 \n",
      "                    - Average accuracy:= 0.9540\n"
     ]
    },
    {
     "name": "stderr",
     "output_type": "stream",
     "text": [
      "100%|██████████| 600/600 [00:11<00:00, 51.37it/s]\n"
     ]
    },
    {
     "name": "stdout",
     "output_type": "stream",
     "text": [
      "Number of Epoch = 3 - Average cross entropy:= 0.0042 \n",
      "                    - Average accuracy:= 0.9632\n"
     ]
    },
    {
     "name": "stderr",
     "output_type": "stream",
     "text": [
      "100%|██████████| 600/600 [00:11<00:00, 50.90it/s]\n"
     ]
    },
    {
     "name": "stdout",
     "output_type": "stream",
     "text": [
      "Number of Epoch = 4 - Average cross entropy:= 0.0039 \n",
      "                    - Average accuracy:= 0.9692\n"
     ]
    },
    {
     "name": "stderr",
     "output_type": "stream",
     "text": [
      "100%|██████████| 600/600 [00:11<00:00, 51.80it/s]\n"
     ]
    },
    {
     "name": "stdout",
     "output_type": "stream",
     "text": [
      "Number of Epoch = 5 - Average cross entropy:= 0.0034 \n",
      "                    - Average accuracy:= 0.9741\n"
     ]
    },
    {
     "name": "stderr",
     "output_type": "stream",
     "text": [
      "100%|██████████| 600/600 [00:11<00:00, 51.72it/s]\n"
     ]
    },
    {
     "name": "stdout",
     "output_type": "stream",
     "text": [
      "Number of Epoch = 6 - Average cross entropy:= 0.0031 \n",
      "                    - Average accuracy:= 0.9773\n"
     ]
    },
    {
     "name": "stderr",
     "output_type": "stream",
     "text": [
      "100%|██████████| 600/600 [00:11<00:00, 50.43it/s]\n"
     ]
    },
    {
     "name": "stdout",
     "output_type": "stream",
     "text": [
      "Number of Epoch = 7 - Average cross entropy:= 0.0029 \n",
      "                    - Average accuracy:= 0.9792\n"
     ]
    },
    {
     "name": "stderr",
     "output_type": "stream",
     "text": [
      "100%|██████████| 600/600 [00:11<00:00, 50.76it/s]\n"
     ]
    },
    {
     "name": "stdout",
     "output_type": "stream",
     "text": [
      "Number of Epoch = 8 - Average cross entropy:= 0.0026 \n",
      "                    - Average accuracy:= 0.9819\n"
     ]
    },
    {
     "name": "stderr",
     "output_type": "stream",
     "text": [
      "100%|██████████| 600/600 [00:11<00:00, 51.21it/s]\n"
     ]
    },
    {
     "name": "stdout",
     "output_type": "stream",
     "text": [
      "Number of Epoch = 9 - Average cross entropy:= 0.0024 \n",
      "                    - Average accuracy:= 0.9832\n"
     ]
    },
    {
     "name": "stderr",
     "output_type": "stream",
     "text": [
      "100%|██████████| 600/600 [00:11<00:00, 50.63it/s]\n"
     ]
    },
    {
     "name": "stdout",
     "output_type": "stream",
     "text": [
      "Number of Epoch = 10 - Average cross entropy:= 0.0021 \n",
      "                    - Average accuracy:= 0.9855\n"
     ]
    },
    {
     "name": "stderr",
     "output_type": "stream",
     "text": [
      "100%|██████████| 600/600 [00:11<00:00, 51.57it/s]\n"
     ]
    },
    {
     "name": "stdout",
     "output_type": "stream",
     "text": [
      "Number of Epoch = 11 - Average cross entropy:= 0.0017 \n",
      "                    - Average accuracy:= 0.9873\n"
     ]
    },
    {
     "name": "stderr",
     "output_type": "stream",
     "text": [
      "100%|██████████| 600/600 [00:11<00:00, 51.04it/s]\n"
     ]
    },
    {
     "name": "stdout",
     "output_type": "stream",
     "text": [
      "Number of Epoch = 12 - Average cross entropy:= 0.0016 \n",
      "                    - Average accuracy:= 0.9882\n"
     ]
    },
    {
     "name": "stderr",
     "output_type": "stream",
     "text": [
      "100%|██████████| 600/600 [00:11<00:00, 51.29it/s]\n"
     ]
    },
    {
     "name": "stdout",
     "output_type": "stream",
     "text": [
      "Number of Epoch = 13 - Average cross entropy:= 0.0015 \n",
      "                    - Average accuracy:= 0.9892\n"
     ]
    },
    {
     "name": "stderr",
     "output_type": "stream",
     "text": [
      "100%|██████████| 600/600 [00:11<00:00, 51.23it/s]\n"
     ]
    },
    {
     "name": "stdout",
     "output_type": "stream",
     "text": [
      "Number of Epoch = 14 - Average cross entropy:= 0.0012 \n",
      "                    - Average accuracy:= 0.9907\n"
     ]
    },
    {
     "name": "stderr",
     "output_type": "stream",
     "text": [
      "100%|██████████| 600/600 [00:11<00:00, 51.64it/s]\n"
     ]
    },
    {
     "name": "stdout",
     "output_type": "stream",
     "text": [
      "Number of Epoch = 15 - Average cross entropy:= 0.0013 \n",
      "                    - Average accuracy:= 0.9906\n"
     ]
    },
    {
     "name": "stderr",
     "output_type": "stream",
     "text": [
      "100%|██████████| 600/600 [00:11<00:00, 51.43it/s]\n"
     ]
    },
    {
     "name": "stdout",
     "output_type": "stream",
     "text": [
      "Number of Epoch = 16 - Average cross entropy:= 0.0012 \n",
      "                    - Average accuracy:= 0.9911\n"
     ]
    },
    {
     "name": "stderr",
     "output_type": "stream",
     "text": [
      "100%|██████████| 600/600 [00:11<00:00, 50.82it/s]\n"
     ]
    },
    {
     "name": "stdout",
     "output_type": "stream",
     "text": [
      "Number of Epoch = 17 - Average cross entropy:= 0.0010 \n",
      "                    - Average accuracy:= 0.9920\n"
     ]
    },
    {
     "name": "stderr",
     "output_type": "stream",
     "text": [
      "100%|██████████| 600/600 [00:11<00:00, 50.64it/s]\n"
     ]
    },
    {
     "name": "stdout",
     "output_type": "stream",
     "text": [
      "Number of Epoch = 18 - Average cross entropy:= 0.0009 \n",
      "                    - Average accuracy:= 0.9926\n"
     ]
    },
    {
     "name": "stderr",
     "output_type": "stream",
     "text": [
      "100%|██████████| 600/600 [00:11<00:00, 51.14it/s]\n"
     ]
    },
    {
     "name": "stdout",
     "output_type": "stream",
     "text": [
      "Number of Epoch = 19 - Average cross entropy:= 0.0008 \n",
      "                    - Average accuracy:= 0.9931\n"
     ]
    },
    {
     "name": "stderr",
     "output_type": "stream",
     "text": [
      "100%|██████████| 600/600 [00:11<00:00, 51.42it/s]\n"
     ]
    },
    {
     "name": "stdout",
     "output_type": "stream",
     "text": [
      "Number of Epoch = 20 - Average cross entropy:= 0.0008 \n",
      "                    - Average accuracy:= 0.9940\n",
      "\n",
      "Total time taken (in seconds): 389.12\n",
      "Test cross entropy: 0.0331 \n",
      "Test accuracy:= 0.9722\n",
      "trail:  8\n"
     ]
    },
    {
     "name": "stderr",
     "output_type": "stream",
     "text": [
      "100%|██████████| 600/600 [00:11<00:00, 51.52it/s]\n"
     ]
    },
    {
     "name": "stdout",
     "output_type": "stream",
     "text": [
      "Number of Epoch = 1 - Average cross entropy:= 0.0038 \n",
      "                    - Average accuracy:= 0.9149\n"
     ]
    },
    {
     "name": "stderr",
     "output_type": "stream",
     "text": [
      "100%|██████████| 600/600 [00:11<00:00, 51.48it/s]\n"
     ]
    },
    {
     "name": "stdout",
     "output_type": "stream",
     "text": [
      "Number of Epoch = 2 - Average cross entropy:= 0.0041 \n",
      "                    - Average accuracy:= 0.9533\n"
     ]
    },
    {
     "name": "stderr",
     "output_type": "stream",
     "text": [
      "100%|██████████| 600/600 [00:11<00:00, 51.08it/s]\n"
     ]
    },
    {
     "name": "stdout",
     "output_type": "stream",
     "text": [
      "Number of Epoch = 3 - Average cross entropy:= 0.0042 \n",
      "                    - Average accuracy:= 0.9615\n"
     ]
    },
    {
     "name": "stderr",
     "output_type": "stream",
     "text": [
      "100%|██████████| 600/600 [00:11<00:00, 50.79it/s]\n"
     ]
    },
    {
     "name": "stdout",
     "output_type": "stream",
     "text": [
      "Number of Epoch = 4 - Average cross entropy:= 0.0039 \n",
      "                    - Average accuracy:= 0.9695\n"
     ]
    },
    {
     "name": "stderr",
     "output_type": "stream",
     "text": [
      "100%|██████████| 600/600 [00:11<00:00, 51.35it/s]\n"
     ]
    },
    {
     "name": "stdout",
     "output_type": "stream",
     "text": [
      "Number of Epoch = 5 - Average cross entropy:= 0.0035 \n",
      "                    - Average accuracy:= 0.9745\n"
     ]
    },
    {
     "name": "stderr",
     "output_type": "stream",
     "text": [
      "100%|██████████| 600/600 [00:11<00:00, 51.30it/s]\n"
     ]
    },
    {
     "name": "stdout",
     "output_type": "stream",
     "text": [
      "Number of Epoch = 6 - Average cross entropy:= 0.0031 \n",
      "                    - Average accuracy:= 0.9772\n"
     ]
    },
    {
     "name": "stderr",
     "output_type": "stream",
     "text": [
      "100%|██████████| 600/600 [00:11<00:00, 51.44it/s]\n"
     ]
    },
    {
     "name": "stdout",
     "output_type": "stream",
     "text": [
      "Number of Epoch = 7 - Average cross entropy:= 0.0028 \n",
      "                    - Average accuracy:= 0.9797\n"
     ]
    },
    {
     "name": "stderr",
     "output_type": "stream",
     "text": [
      "100%|██████████| 600/600 [00:11<00:00, 51.32it/s]\n"
     ]
    },
    {
     "name": "stdout",
     "output_type": "stream",
     "text": [
      "Number of Epoch = 8 - Average cross entropy:= 0.0026 \n",
      "                    - Average accuracy:= 0.9821\n"
     ]
    },
    {
     "name": "stderr",
     "output_type": "stream",
     "text": [
      "100%|██████████| 600/600 [00:11<00:00, 51.46it/s]\n"
     ]
    },
    {
     "name": "stdout",
     "output_type": "stream",
     "text": [
      "Number of Epoch = 9 - Average cross entropy:= 0.0023 \n",
      "                    - Average accuracy:= 0.9837\n"
     ]
    },
    {
     "name": "stderr",
     "output_type": "stream",
     "text": [
      "100%|██████████| 600/600 [00:11<00:00, 51.49it/s]\n"
     ]
    },
    {
     "name": "stdout",
     "output_type": "stream",
     "text": [
      "Number of Epoch = 10 - Average cross entropy:= 0.0021 \n",
      "                    - Average accuracy:= 0.9850\n"
     ]
    },
    {
     "name": "stderr",
     "output_type": "stream",
     "text": [
      "100%|██████████| 600/600 [00:11<00:00, 50.58it/s]\n"
     ]
    },
    {
     "name": "stdout",
     "output_type": "stream",
     "text": [
      "Number of Epoch = 11 - Average cross entropy:= 0.0019 \n",
      "                    - Average accuracy:= 0.9869\n"
     ]
    },
    {
     "name": "stderr",
     "output_type": "stream",
     "text": [
      "100%|██████████| 600/600 [00:11<00:00, 51.41it/s]\n"
     ]
    },
    {
     "name": "stdout",
     "output_type": "stream",
     "text": [
      "Number of Epoch = 12 - Average cross entropy:= 0.0018 \n",
      "                    - Average accuracy:= 0.9872\n"
     ]
    },
    {
     "name": "stderr",
     "output_type": "stream",
     "text": [
      "100%|██████████| 600/600 [00:11<00:00, 51.72it/s]\n"
     ]
    },
    {
     "name": "stdout",
     "output_type": "stream",
     "text": [
      "Number of Epoch = 13 - Average cross entropy:= 0.0017 \n",
      "                    - Average accuracy:= 0.9884\n"
     ]
    },
    {
     "name": "stderr",
     "output_type": "stream",
     "text": [
      "100%|██████████| 600/600 [00:11<00:00, 51.53it/s]\n"
     ]
    },
    {
     "name": "stdout",
     "output_type": "stream",
     "text": [
      "Number of Epoch = 14 - Average cross entropy:= 0.0014 \n",
      "                    - Average accuracy:= 0.9899\n"
     ]
    },
    {
     "name": "stderr",
     "output_type": "stream",
     "text": [
      "100%|██████████| 600/600 [00:11<00:00, 51.55it/s]\n"
     ]
    },
    {
     "name": "stdout",
     "output_type": "stream",
     "text": [
      "Number of Epoch = 15 - Average cross entropy:= 0.0014 \n",
      "                    - Average accuracy:= 0.9904\n"
     ]
    },
    {
     "name": "stderr",
     "output_type": "stream",
     "text": [
      "100%|██████████| 600/600 [00:11<00:00, 51.39it/s]\n"
     ]
    },
    {
     "name": "stdout",
     "output_type": "stream",
     "text": [
      "Number of Epoch = 16 - Average cross entropy:= 0.0012 \n",
      "                    - Average accuracy:= 0.9914\n"
     ]
    },
    {
     "name": "stderr",
     "output_type": "stream",
     "text": [
      "100%|██████████| 600/600 [00:11<00:00, 51.05it/s]\n"
     ]
    },
    {
     "name": "stdout",
     "output_type": "stream",
     "text": [
      "Number of Epoch = 17 - Average cross entropy:= 0.0010 \n",
      "                    - Average accuracy:= 0.9925\n"
     ]
    },
    {
     "name": "stderr",
     "output_type": "stream",
     "text": [
      "100%|██████████| 600/600 [00:11<00:00, 50.98it/s]\n"
     ]
    },
    {
     "name": "stdout",
     "output_type": "stream",
     "text": [
      "Number of Epoch = 18 - Average cross entropy:= 0.0011 \n",
      "                    - Average accuracy:= 0.9920\n"
     ]
    },
    {
     "name": "stderr",
     "output_type": "stream",
     "text": [
      "100%|██████████| 600/600 [00:11<00:00, 51.20it/s]\n"
     ]
    },
    {
     "name": "stdout",
     "output_type": "stream",
     "text": [
      "Number of Epoch = 19 - Average cross entropy:= 0.0010 \n",
      "                    - Average accuracy:= 0.9916\n"
     ]
    },
    {
     "name": "stderr",
     "output_type": "stream",
     "text": [
      "100%|██████████| 600/600 [00:11<00:00, 50.83it/s]\n"
     ]
    },
    {
     "name": "stdout",
     "output_type": "stream",
     "text": [
      "Number of Epoch = 20 - Average cross entropy:= 0.0009 \n",
      "                    - Average accuracy:= 0.9934\n",
      "\n",
      "Total time taken (in seconds): 388.71\n",
      "Test cross entropy: 0.0324 \n",
      "Test accuracy:= 0.9742\n",
      "trail:  9\n"
     ]
    },
    {
     "name": "stderr",
     "output_type": "stream",
     "text": [
      "100%|██████████| 600/600 [00:11<00:00, 51.52it/s]\n"
     ]
    },
    {
     "name": "stdout",
     "output_type": "stream",
     "text": [
      "Number of Epoch = 1 - Average cross entropy:= 0.0038 \n",
      "                    - Average accuracy:= 0.9143\n"
     ]
    },
    {
     "name": "stderr",
     "output_type": "stream",
     "text": [
      "100%|██████████| 600/600 [00:11<00:00, 50.60it/s]\n"
     ]
    },
    {
     "name": "stdout",
     "output_type": "stream",
     "text": [
      "Number of Epoch = 2 - Average cross entropy:= 0.0041 \n",
      "                    - Average accuracy:= 0.9525\n"
     ]
    },
    {
     "name": "stderr",
     "output_type": "stream",
     "text": [
      "100%|██████████| 600/600 [00:11<00:00, 51.72it/s]\n"
     ]
    },
    {
     "name": "stdout",
     "output_type": "stream",
     "text": [
      "Number of Epoch = 3 - Average cross entropy:= 0.0039 \n",
      "                    - Average accuracy:= 0.9630\n"
     ]
    },
    {
     "name": "stderr",
     "output_type": "stream",
     "text": [
      "100%|██████████| 600/600 [00:11<00:00, 51.14it/s]\n"
     ]
    },
    {
     "name": "stdout",
     "output_type": "stream",
     "text": [
      "Number of Epoch = 4 - Average cross entropy:= 0.0041 \n",
      "                    - Average accuracy:= 0.9677\n"
     ]
    },
    {
     "name": "stderr",
     "output_type": "stream",
     "text": [
      "100%|██████████| 600/600 [00:11<00:00, 51.36it/s]\n"
     ]
    },
    {
     "name": "stdout",
     "output_type": "stream",
     "text": [
      "Number of Epoch = 5 - Average cross entropy:= 0.0037 \n",
      "                    - Average accuracy:= 0.9727\n"
     ]
    },
    {
     "name": "stderr",
     "output_type": "stream",
     "text": [
      "100%|██████████| 600/600 [00:11<00:00, 51.73it/s]\n"
     ]
    },
    {
     "name": "stdout",
     "output_type": "stream",
     "text": [
      "Number of Epoch = 6 - Average cross entropy:= 0.0034 \n",
      "                    - Average accuracy:= 0.9765\n"
     ]
    },
    {
     "name": "stderr",
     "output_type": "stream",
     "text": [
      "100%|██████████| 600/600 [00:11<00:00, 51.40it/s]\n"
     ]
    },
    {
     "name": "stdout",
     "output_type": "stream",
     "text": [
      "Number of Epoch = 7 - Average cross entropy:= 0.0029 \n",
      "                    - Average accuracy:= 0.9791\n"
     ]
    },
    {
     "name": "stderr",
     "output_type": "stream",
     "text": [
      "100%|██████████| 600/600 [00:12<00:00, 48.96it/s]\n"
     ]
    },
    {
     "name": "stdout",
     "output_type": "stream",
     "text": [
      "Number of Epoch = 8 - Average cross entropy:= 0.0028 \n",
      "                    - Average accuracy:= 0.9815\n"
     ]
    },
    {
     "name": "stderr",
     "output_type": "stream",
     "text": [
      "100%|██████████| 600/600 [00:11<00:00, 51.53it/s]\n"
     ]
    },
    {
     "name": "stdout",
     "output_type": "stream",
     "text": [
      "Number of Epoch = 9 - Average cross entropy:= 0.0026 \n",
      "                    - Average accuracy:= 0.9835\n"
     ]
    },
    {
     "name": "stderr",
     "output_type": "stream",
     "text": [
      "100%|██████████| 600/600 [00:11<00:00, 51.51it/s]\n"
     ]
    },
    {
     "name": "stdout",
     "output_type": "stream",
     "text": [
      "Number of Epoch = 10 - Average cross entropy:= 0.0023 \n",
      "                    - Average accuracy:= 0.9845\n"
     ]
    },
    {
     "name": "stderr",
     "output_type": "stream",
     "text": [
      "100%|██████████| 600/600 [00:11<00:00, 51.41it/s]\n"
     ]
    },
    {
     "name": "stdout",
     "output_type": "stream",
     "text": [
      "Number of Epoch = 11 - Average cross entropy:= 0.0022 \n",
      "                    - Average accuracy:= 0.9857\n"
     ]
    },
    {
     "name": "stderr",
     "output_type": "stream",
     "text": [
      "100%|██████████| 600/600 [00:11<00:00, 50.53it/s]\n"
     ]
    },
    {
     "name": "stdout",
     "output_type": "stream",
     "text": [
      "Number of Epoch = 12 - Average cross entropy:= 0.0018 \n",
      "                    - Average accuracy:= 0.9875\n"
     ]
    },
    {
     "name": "stderr",
     "output_type": "stream",
     "text": [
      "100%|██████████| 600/600 [00:11<00:00, 51.32it/s]\n"
     ]
    },
    {
     "name": "stdout",
     "output_type": "stream",
     "text": [
      "Number of Epoch = 13 - Average cross entropy:= 0.0017 \n",
      "                    - Average accuracy:= 0.9887\n"
     ]
    },
    {
     "name": "stderr",
     "output_type": "stream",
     "text": [
      "100%|██████████| 600/600 [00:11<00:00, 51.17it/s]\n"
     ]
    },
    {
     "name": "stdout",
     "output_type": "stream",
     "text": [
      "Number of Epoch = 14 - Average cross entropy:= 0.0015 \n",
      "                    - Average accuracy:= 0.9897\n"
     ]
    },
    {
     "name": "stderr",
     "output_type": "stream",
     "text": [
      "100%|██████████| 600/600 [00:11<00:00, 50.89it/s]\n"
     ]
    },
    {
     "name": "stdout",
     "output_type": "stream",
     "text": [
      "Number of Epoch = 15 - Average cross entropy:= 0.0014 \n",
      "                    - Average accuracy:= 0.9895\n"
     ]
    },
    {
     "name": "stderr",
     "output_type": "stream",
     "text": [
      "100%|██████████| 600/600 [00:11<00:00, 50.83it/s]\n"
     ]
    },
    {
     "name": "stdout",
     "output_type": "stream",
     "text": [
      "Number of Epoch = 16 - Average cross entropy:= 0.0013 \n",
      "                    - Average accuracy:= 0.9906\n"
     ]
    },
    {
     "name": "stderr",
     "output_type": "stream",
     "text": [
      "100%|██████████| 600/600 [00:11<00:00, 51.43it/s]\n"
     ]
    },
    {
     "name": "stdout",
     "output_type": "stream",
     "text": [
      "Number of Epoch = 17 - Average cross entropy:= 0.0013 \n",
      "                    - Average accuracy:= 0.9912\n"
     ]
    },
    {
     "name": "stderr",
     "output_type": "stream",
     "text": [
      "100%|██████████| 600/600 [00:11<00:00, 51.37it/s]\n"
     ]
    },
    {
     "name": "stdout",
     "output_type": "stream",
     "text": [
      "Number of Epoch = 18 - Average cross entropy:= 0.0010 \n",
      "                    - Average accuracy:= 0.9919\n"
     ]
    },
    {
     "name": "stderr",
     "output_type": "stream",
     "text": [
      "100%|██████████| 600/600 [00:11<00:00, 51.38it/s]\n"
     ]
    },
    {
     "name": "stdout",
     "output_type": "stream",
     "text": [
      "Number of Epoch = 19 - Average cross entropy:= 0.0010 \n",
      "                    - Average accuracy:= 0.9928\n"
     ]
    },
    {
     "name": "stderr",
     "output_type": "stream",
     "text": [
      "100%|██████████| 600/600 [00:11<00:00, 51.04it/s]\n"
     ]
    },
    {
     "name": "stdout",
     "output_type": "stream",
     "text": [
      "Number of Epoch = 20 - Average cross entropy:= 0.0009 \n",
      "                    - Average accuracy:= 0.9930\n",
      "\n",
      "Total time taken (in seconds): 389.49\n",
      "Test cross entropy: 0.0319 \n",
      "Test accuracy:= 0.9746\n",
      "trail:  10\n"
     ]
    },
    {
     "name": "stderr",
     "output_type": "stream",
     "text": [
      "100%|██████████| 600/600 [00:11<00:00, 50.90it/s]\n"
     ]
    },
    {
     "name": "stdout",
     "output_type": "stream",
     "text": [
      "Number of Epoch = 1 - Average cross entropy:= 0.0038 \n",
      "                    - Average accuracy:= 0.9137\n"
     ]
    },
    {
     "name": "stderr",
     "output_type": "stream",
     "text": [
      "100%|██████████| 600/600 [00:11<00:00, 51.61it/s]\n"
     ]
    },
    {
     "name": "stdout",
     "output_type": "stream",
     "text": [
      "Number of Epoch = 2 - Average cross entropy:= 0.0043 \n",
      "                    - Average accuracy:= 0.9516\n"
     ]
    },
    {
     "name": "stderr",
     "output_type": "stream",
     "text": [
      "100%|██████████| 600/600 [00:11<00:00, 51.47it/s]\n"
     ]
    },
    {
     "name": "stdout",
     "output_type": "stream",
     "text": [
      "Number of Epoch = 3 - Average cross entropy:= 0.0040 \n",
      "                    - Average accuracy:= 0.9632\n"
     ]
    },
    {
     "name": "stderr",
     "output_type": "stream",
     "text": [
      "100%|██████████| 600/600 [00:11<00:00, 50.35it/s]\n"
     ]
    },
    {
     "name": "stdout",
     "output_type": "stream",
     "text": [
      "Number of Epoch = 4 - Average cross entropy:= 0.0039 \n",
      "                    - Average accuracy:= 0.9701\n"
     ]
    },
    {
     "name": "stderr",
     "output_type": "stream",
     "text": [
      "100%|██████████| 600/600 [00:11<00:00, 51.04it/s]\n"
     ]
    },
    {
     "name": "stdout",
     "output_type": "stream",
     "text": [
      "Number of Epoch = 5 - Average cross entropy:= 0.0034 \n",
      "                    - Average accuracy:= 0.9736\n"
     ]
    },
    {
     "name": "stderr",
     "output_type": "stream",
     "text": [
      "100%|██████████| 600/600 [00:11<00:00, 51.49it/s]\n"
     ]
    },
    {
     "name": "stdout",
     "output_type": "stream",
     "text": [
      "Number of Epoch = 6 - Average cross entropy:= 0.0029 \n",
      "                    - Average accuracy:= 0.9781\n"
     ]
    },
    {
     "name": "stderr",
     "output_type": "stream",
     "text": [
      "100%|██████████| 600/600 [00:11<00:00, 51.54it/s]\n"
     ]
    },
    {
     "name": "stdout",
     "output_type": "stream",
     "text": [
      "Number of Epoch = 7 - Average cross entropy:= 0.0027 \n",
      "                    - Average accuracy:= 0.9810\n"
     ]
    },
    {
     "name": "stderr",
     "output_type": "stream",
     "text": [
      "100%|██████████| 600/600 [00:11<00:00, 51.21it/s]\n"
     ]
    },
    {
     "name": "stdout",
     "output_type": "stream",
     "text": [
      "Number of Epoch = 8 - Average cross entropy:= 0.0024 \n",
      "                    - Average accuracy:= 0.9836\n"
     ]
    },
    {
     "name": "stderr",
     "output_type": "stream",
     "text": [
      "100%|██████████| 600/600 [00:11<00:00, 51.45it/s]\n"
     ]
    },
    {
     "name": "stdout",
     "output_type": "stream",
     "text": [
      "Number of Epoch = 9 - Average cross entropy:= 0.0020 \n",
      "                    - Average accuracy:= 0.9849\n"
     ]
    },
    {
     "name": "stderr",
     "output_type": "stream",
     "text": [
      "100%|██████████| 600/600 [00:11<00:00, 50.93it/s]\n"
     ]
    },
    {
     "name": "stdout",
     "output_type": "stream",
     "text": [
      "Number of Epoch = 10 - Average cross entropy:= 0.0018 \n",
      "                    - Average accuracy:= 0.9868\n"
     ]
    },
    {
     "name": "stderr",
     "output_type": "stream",
     "text": [
      "100%|██████████| 600/600 [00:11<00:00, 51.31it/s]\n"
     ]
    },
    {
     "name": "stdout",
     "output_type": "stream",
     "text": [
      "Number of Epoch = 11 - Average cross entropy:= 0.0019 \n",
      "                    - Average accuracy:= 0.9866\n"
     ]
    },
    {
     "name": "stderr",
     "output_type": "stream",
     "text": [
      "100%|██████████| 600/600 [00:11<00:00, 51.21it/s]\n"
     ]
    },
    {
     "name": "stdout",
     "output_type": "stream",
     "text": [
      "Number of Epoch = 12 - Average cross entropy:= 0.0017 \n",
      "                    - Average accuracy:= 0.9884\n"
     ]
    },
    {
     "name": "stderr",
     "output_type": "stream",
     "text": [
      "100%|██████████| 600/600 [00:12<00:00, 49.09it/s]\n"
     ]
    },
    {
     "name": "stdout",
     "output_type": "stream",
     "text": [
      "Number of Epoch = 13 - Average cross entropy:= 0.0015 \n",
      "                    - Average accuracy:= 0.9889\n"
     ]
    },
    {
     "name": "stderr",
     "output_type": "stream",
     "text": [
      "100%|██████████| 600/600 [00:11<00:00, 51.43it/s]\n"
     ]
    },
    {
     "name": "stdout",
     "output_type": "stream",
     "text": [
      "Number of Epoch = 14 - Average cross entropy:= 0.0015 \n",
      "                    - Average accuracy:= 0.9900\n"
     ]
    },
    {
     "name": "stderr",
     "output_type": "stream",
     "text": [
      "100%|██████████| 600/600 [00:11<00:00, 51.27it/s]\n"
     ]
    },
    {
     "name": "stdout",
     "output_type": "stream",
     "text": [
      "Number of Epoch = 15 - Average cross entropy:= 0.0012 \n",
      "                    - Average accuracy:= 0.9910\n"
     ]
    },
    {
     "name": "stderr",
     "output_type": "stream",
     "text": [
      "100%|██████████| 600/600 [00:11<00:00, 51.56it/s]\n"
     ]
    },
    {
     "name": "stdout",
     "output_type": "stream",
     "text": [
      "Number of Epoch = 16 - Average cross entropy:= 0.0011 \n",
      "                    - Average accuracy:= 0.9920\n"
     ]
    },
    {
     "name": "stderr",
     "output_type": "stream",
     "text": [
      "100%|██████████| 600/600 [00:11<00:00, 51.69it/s]\n"
     ]
    },
    {
     "name": "stdout",
     "output_type": "stream",
     "text": [
      "Number of Epoch = 17 - Average cross entropy:= 0.0012 \n",
      "                    - Average accuracy:= 0.9914\n"
     ]
    },
    {
     "name": "stderr",
     "output_type": "stream",
     "text": [
      "100%|██████████| 600/600 [00:11<00:00, 51.11it/s]\n"
     ]
    },
    {
     "name": "stdout",
     "output_type": "stream",
     "text": [
      "Number of Epoch = 18 - Average cross entropy:= 0.0011 \n",
      "                    - Average accuracy:= 0.9924\n"
     ]
    },
    {
     "name": "stderr",
     "output_type": "stream",
     "text": [
      "100%|██████████| 600/600 [00:11<00:00, 50.97it/s]\n"
     ]
    },
    {
     "name": "stdout",
     "output_type": "stream",
     "text": [
      "Number of Epoch = 19 - Average cross entropy:= 0.0010 \n",
      "                    - Average accuracy:= 0.9924\n"
     ]
    },
    {
     "name": "stderr",
     "output_type": "stream",
     "text": [
      "100%|██████████| 600/600 [00:11<00:00, 51.31it/s]\n"
     ]
    },
    {
     "name": "stdout",
     "output_type": "stream",
     "text": [
      "Number of Epoch = 20 - Average cross entropy:= 0.0009 \n",
      "                    - Average accuracy:= 0.9932\n",
      "\n",
      "Total time taken (in seconds): 388.89\n",
      "Test cross entropy: 0.0284 \n",
      "Test accuracy:= 0.9753\n",
      "\n",
      "Total time taken (in seconds): 3943.48\n"
     ]
    }
   ],
   "source": [
    "# Run the whole process 10 times\n",
    "time_start = time.time()\n",
    "testing_df = pd.DataFrame(columns = ['trail', 'accuracy', 'loss'])\n",
    "for trail in range(10):\n",
    "    print('trail: ', trail+1)\n",
    "    mlp, training_df = train(trail+1)\n",
    "    test_loss_total = tf.Variable(0, dtype=tf.float32)\n",
    "    test_acc = []\n",
    "    test_ds = tf.data.Dataset.from_tensor_slices((X_test, y_test)).shuffle(25, seed=trail*(597)).batch(20)\n",
    "    for inputs, outputs in test_ds:\n",
    "        preds = mlp.forward(inputs)\n",
    "        test_loss_total = test_loss_total + mlp.loss(preds, outputs)\n",
    "        test_acc.append(tf.keras.metrics.sparse_categorical_accuracy(outputs, preds))\n",
    "    test_avg_loss = np.sum(test_loss_total) / X_test.shape[0]\n",
    "    test_avg_acc = np.mean(test_acc)\n",
    "    testing_df.loc[trail] = [trail+1, test_avg_acc, test_avg_loss]\n",
    "    print('Test cross entropy: {:.4f}'.format(test_avg_loss),\n",
    "          '\\nTest accuracy:= {:.4f}'.format(test_avg_acc))\n",
    "time_taken = time.time() - time_start\n",
    "print('\\nTotal time taken (in seconds): {:.2f}'.format(time_taken))"
   ]
  },
  {
   "cell_type": "code",
   "execution_count": 369,
   "metadata": {
    "scrolled": true
   },
   "outputs": [
    {
     "name": "stdout",
     "output_type": "stream",
     "text": [
      "average test accuracy:  0.9737\n",
      "accuracy standard error:  0.0026\n"
     ]
    },
    {
     "data": {
      "text/html": [
       "<div>\n",
       "<style scoped>\n",
       "    .dataframe tbody tr th:only-of-type {\n",
       "        vertical-align: middle;\n",
       "    }\n",
       "\n",
       "    .dataframe tbody tr th {\n",
       "        vertical-align: top;\n",
       "    }\n",
       "\n",
       "    .dataframe thead th {\n",
       "        text-align: right;\n",
       "    }\n",
       "</style>\n",
       "<table border=\"1\" class=\"dataframe\">\n",
       "  <thead>\n",
       "    <tr style=\"text-align: right;\">\n",
       "      <th></th>\n",
       "      <th>trail</th>\n",
       "      <th>accuracy</th>\n",
       "      <th>loss</th>\n",
       "    </tr>\n",
       "  </thead>\n",
       "  <tbody>\n",
       "    <tr>\n",
       "      <th>0</th>\n",
       "      <td>1.0</td>\n",
       "      <td>0.9736</td>\n",
       "      <td>0.034421</td>\n",
       "    </tr>\n",
       "    <tr>\n",
       "      <th>1</th>\n",
       "      <td>2.0</td>\n",
       "      <td>0.9761</td>\n",
       "      <td>0.029787</td>\n",
       "    </tr>\n",
       "    <tr>\n",
       "      <th>2</th>\n",
       "      <td>3.0</td>\n",
       "      <td>0.9711</td>\n",
       "      <td>0.035988</td>\n",
       "    </tr>\n",
       "    <tr>\n",
       "      <th>3</th>\n",
       "      <td>4.0</td>\n",
       "      <td>0.9677</td>\n",
       "      <td>0.040814</td>\n",
       "    </tr>\n",
       "    <tr>\n",
       "      <th>4</th>\n",
       "      <td>5.0</td>\n",
       "      <td>0.9770</td>\n",
       "      <td>0.027074</td>\n",
       "    </tr>\n",
       "    <tr>\n",
       "      <th>5</th>\n",
       "      <td>6.0</td>\n",
       "      <td>0.9748</td>\n",
       "      <td>0.027882</td>\n",
       "    </tr>\n",
       "    <tr>\n",
       "      <th>6</th>\n",
       "      <td>7.0</td>\n",
       "      <td>0.9722</td>\n",
       "      <td>0.033082</td>\n",
       "    </tr>\n",
       "    <tr>\n",
       "      <th>7</th>\n",
       "      <td>8.0</td>\n",
       "      <td>0.9742</td>\n",
       "      <td>0.032386</td>\n",
       "    </tr>\n",
       "    <tr>\n",
       "      <th>8</th>\n",
       "      <td>9.0</td>\n",
       "      <td>0.9746</td>\n",
       "      <td>0.031857</td>\n",
       "    </tr>\n",
       "    <tr>\n",
       "      <th>9</th>\n",
       "      <td>10.0</td>\n",
       "      <td>0.9753</td>\n",
       "      <td>0.028439</td>\n",
       "    </tr>\n",
       "  </tbody>\n",
       "</table>\n",
       "</div>"
      ],
      "text/plain": [
       "   trail  accuracy      loss\n",
       "0    1.0    0.9736  0.034421\n",
       "1    2.0    0.9761  0.029787\n",
       "2    3.0    0.9711  0.035988\n",
       "3    4.0    0.9677  0.040814\n",
       "4    5.0    0.9770  0.027074\n",
       "5    6.0    0.9748  0.027882\n",
       "6    7.0    0.9722  0.033082\n",
       "7    8.0    0.9742  0.032386\n",
       "8    9.0    0.9746  0.031857\n",
       "9   10.0    0.9753  0.028439"
      ]
     },
     "execution_count": 369,
     "metadata": {},
     "output_type": "execute_result"
    }
   ],
   "source": [
    "print('average test accuracy: ', round(testing_df['accuracy'].mean(), 4))\n",
    "print('accuracy standard error: ', round(np.std(testing_df['accuracy']), 4))\n",
    "testing_df"
   ]
  },
  {
   "cell_type": "code",
   "execution_count": 370,
   "metadata": {
    "scrolled": false
   },
   "outputs": [
    {
     "name": "stderr",
     "output_type": "stream",
     "text": [
      "C:\\Study\\Python\\Anaconda\\lib\\site-packages\\matplotlib\\cbook\\__init__.py:2064: FutureWarning: Support for multi-dimensional indexing (e.g. `obj[:, None]`) is deprecated and will be removed in a future version.  Convert to a numpy array before indexing instead.\n",
      "  x[:, None]\n",
      "C:\\Study\\Python\\Anaconda\\lib\\site-packages\\matplotlib\\axes\\_base.py:248: FutureWarning: Support for multi-dimensional indexing (e.g. `obj[:, None]`) is deprecated and will be removed in a future version.  Convert to a numpy array before indexing instead.\n",
      "  x = x[:, np.newaxis]\n",
      "C:\\Study\\Python\\Anaconda\\lib\\site-packages\\matplotlib\\axes\\_base.py:250: FutureWarning: Support for multi-dimensional indexing (e.g. `obj[:, None]`) is deprecated and will be removed in a future version.  Convert to a numpy array before indexing instead.\n",
      "  y = y[:, np.newaxis]\n"
     ]
    },
    {
     "data": {
      "text/plain": [
       "Text(0,0.5,'accuracy')"
      ]
     },
     "execution_count": 370,
     "metadata": {},
     "output_type": "execute_result"
    },
    {
     "data": {
      "image/png": "[encoded data removed]",
      "text/plain": [
       "<Figure size 432x288 with 1 Axes>"
      ]
     },
     "metadata": {
      "needs_background": "light"
     },
     "output_type": "display_data"
    }
   ],
   "source": [
    "plt.plot(testing_df['trail'], testing_df['accuracy'])\n",
    "plt.xlabel('trail')\n",
    "plt.ylabel('accuracy')"
   ]
  },
  {
   "cell_type": "code",
   "execution_count": null,
   "metadata": {},
   "outputs": [],
   "source": []
  },
  {
   "cell_type": "code",
   "execution_count": null,
   "metadata": {},
   "outputs": [],
   "source": []
  }
 ],
 "metadata": {
  "kernelspec": {
   "display_name": "Python 3",
   "language": "python",
   "name": "python3"
  },
  "language_info": {
   "codemirror_mode": {
    "name": "ipython",
    "version": 3
   },
   "file_extension": ".py",
   "mimetype": "text/x-python",
   "name": "python",
   "nbconvert_exporter": "python",
   "pygments_lexer": "ipython3",
   "version": "3.7.4"
  }
 },
 "nbformat": 4,
 "nbformat_minor": 2
}
